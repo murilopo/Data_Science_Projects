{
  "nbformat": 4,
  "nbformat_minor": 0,
  "metadata": {
    "colab": {
      "name": "Transformando Tabela PDF em Dataset.ipynb",
      "provenance": [],
      "toc_visible": true,
      "authorship_tag": "ABX9TyOwODblaLRzkyqBlQcM5rcX",
      "include_colab_link": true
    },
    "kernelspec": {
      "name": "python3",
      "display_name": "Python 3"
    }
  },
  "cells": [
    {
      "cell_type": "markdown",
      "metadata": {
        "id": "view-in-github",
        "colab_type": "text"
      },
      "source": [
        "<a href=\"https://colab.research.google.com/github/murilopo/Data_Science_Projects/blob/master/Transformando_Tabela_PDF_em_Dataset.ipynb\" target=\"_parent\"><img src=\"https://colab.research.google.com/assets/colab-badge.svg\" alt=\"Open In Colab\"/></a>"
      ]
    },
    {
      "cell_type": "markdown",
      "metadata": {
        "id": "xNFIYJmTKmT7",
        "colab_type": "text"
      },
      "source": [
        "## Transformando PDF em um Dataset\n",
        "\n",
        "Provavelmente, você já usou o PDF em algum momento. Atualmente esse formato possui aplicações diversas, que incluem textos, imagens e até vídeos. As vantagens do PDF estão relacionadas principalmente a essa grande flexibilidade que ele proporciona. Para quem trabalha com manipulação de dados não importa o formato qual tipo de formato seja .txt,xlsx,doc,jpg. Com Python é possivel manipular.\n",
        "\n",
        "Quantas vezes voce ja deparapou com um PDF criptografado que não era possivel selecionar o conteudo desejado?\n",
        "\n",
        "Pensando nisso resolvi escrever um código em python, de forma bem simplificada, utilizando a biblioteca [Pdfplumber](https://github.com/jsvine/pdfplumber), para ajudar aqueles que trabalham muito com esse formato de arquivo. \n",
        "\n",
        "\n",
        "<center><img width=\"50%\" src = 'https://raw.githubusercontent.com/murilopo/Project_Imagens/master/PDF_Icon.png'><center>\n",
        "\n"
      ]
    },
    {
      "cell_type": "markdown",
      "metadata": {
        "id": "5qaxKkHcXNIy",
        "colab_type": "text"
      },
      "source": [
        "O Exercicio abaixo e para transformar em Data Set uma página especifica de um relatório em PDF. Para tal faremos a analise relatório feito pelo **Instituto Nacional de Estudos e Pesquisas Educacionais Anísio Teixeira** sobre o dados de inscritos do [Enem 2019](https://www.gov.br/inep/pt-br/centrais-de-conteudo/press-kits)\n",
        "\n",
        "Seguiremos o passo a passo.\n",
        "\n",
        "1.   Importação de bibliotecas\n",
        "2.   Mapear o diretório do Google Colab.\n",
        "3.   Extrair o Relatório \n",
        "4.   Transforma-lo em um Dataset.\n",
        "\n",
        "\n",
        "\n"
      ]
    },
    {
      "cell_type": "markdown",
      "metadata": {
        "id": "pEOzaQN1MeNL",
        "colab_type": "text"
      },
      "source": [
        "Antes de começarmos a extrair os dodas de relatório. O *pdfplumber* é uma biblioteca que não vem instalada no Python portanto devemos instalar usando o código abaixo.\n",
        "\n",
        "\n",
        "\n",
        "\n",
        "\n"
      ]
    },
    {
      "cell_type": "code",
      "metadata": {
        "id": "9SrpWtiNKD7H",
        "colab_type": "code",
        "colab": {}
      },
      "source": [
        "# importar as bibliotecas(PDF PLUMBER)\n",
        "\n",
        "!pip install pdfplumber -q\n",
        "\n",
        "# -q utilizado para ocultar os dados de instalação"
      ],
      "execution_count": 130,
      "outputs": []
    },
    {
      "cell_type": "markdown",
      "metadata": {
        "id": "ei5XOojrd0SY",
        "colab_type": "text"
      },
      "source": [
        "## Importando Bibliotecas"
      ]
    },
    {
      "cell_type": "code",
      "metadata": {
        "id": "GLq4ANT9Khck",
        "colab_type": "code",
        "colab": {}
      },
      "source": [
        "# Importando Bibliotecas. \n",
        "import pdfplumber\n",
        "import os\n",
        "import pandas as pd\n"
      ],
      "execution_count": 131,
      "outputs": []
    },
    {
      "cell_type": "markdown",
      "metadata": {
        "id": "6JtOyZuaeZBg",
        "colab_type": "text"
      },
      "source": [
        "## Selecionando o diretório no Google Colab\n",
        "\n",
        "O arquivo  que iremos trabalhar `Dataset-Enem 2019.pdf` está em um dos diretório no google colab. Portanto precisamos informar em qual diretório nossa arquivo se encontra, para enfim fazer-mos a leitura.\n"
      ]
    },
    {
      "cell_type": "code",
      "metadata": {
        "id": "NB20-7Q0OBxE",
        "colab_type": "code",
        "colab": {}
      },
      "source": [
        "os.chdir('//content/sample_data') # Direcionar o diretório deseajado"
      ],
      "execution_count": 132,
      "outputs": []
    },
    {
      "cell_type": "code",
      "metadata": {
        "id": "t8RZywosP20J",
        "colab_type": "code",
        "colab": {
          "base_uri": "https://localhost:8080/",
          "height": 35
        },
        "outputId": "51142290-7528-4392-83e5-9b55923cf6df"
      },
      "source": [
        "# Quais arquivos temos no diretório 'Sample_Data'.\n",
        "relatorio= os.listdir()[2] # 3 item da lista de arquivos\n",
        "relatorio\n",
        "\n",
        "\n"
      ],
      "execution_count": 133,
      "outputs": [
        {
          "output_type": "execute_result",
          "data": {
            "application/vnd.google.colaboratory.intrinsic+json": {
              "type": "string"
            },
            "text/plain": [
              "'Dataset-Enem 2019.pdf'"
            ]
          },
          "metadata": {
            "tags": []
          },
          "execution_count": 133
        }
      ]
    },
    {
      "cell_type": "markdown",
      "metadata": {
        "id": "vfbkWiKxiQxi",
        "colab_type": "text"
      },
      "source": [
        "## Extrair arquivo"
      ]
    },
    {
      "cell_type": "code",
      "metadata": {
        "id": "wFEXvNzWQO-7",
        "colab_type": "code",
        "colab": {
          "base_uri": "https://localhost:8080/",
          "height": 34
        },
        "outputId": "ce9a0210-6cea-4424-c427-332018f35e18"
      },
      "source": [
        "#Abrir o relatório 'Dataset-Enem 2019' utilizando pdfplumber\n",
        "rel = pdfplumber.open(relatorio)\n",
        "print(rel)"
      ],
      "execution_count": 145,
      "outputs": [
        {
          "output_type": "stream",
          "text": [
            "<pdfplumber.pdf.PDF object at 0x7fa30e29e7f0>\n"
          ],
          "name": "stdout"
        }
      ]
    },
    {
      "cell_type": "markdown",
      "metadata": {
        "id": "zksEmuNGg-X2",
        "colab_type": "text"
      },
      "source": [
        "Devido a saida ter sido no fomato acima\n",
        "\n",
        "Precisamos selecionar em qual página desejamos visualizar. Para tal Aplicaremos o método `Pages` "
      ]
    },
    {
      "cell_type": "code",
      "metadata": {
        "id": "R5ewHFZbREJv",
        "colab_type": "code",
        "colab": {}
      },
      "source": [
        "# Abrir o pdf com base na pagina desejado"
      ],
      "execution_count": 135,
      "outputs": []
    },
    {
      "cell_type": "code",
      "metadata": {
        "id": "N5c8nPavRF4w",
        "colab_type": "code",
        "colab": {
          "base_uri": "https://localhost:8080/",
          "height": 621
        },
        "outputId": "4a4f167b-600a-4085-a921-a8f7423fff20"
      },
      "source": [
        "dados= rel.pages[27].extract_table()\n",
        "dados"
      ],
      "execution_count": 136,
      "outputs": [
        {
          "output_type": "execute_result",
          "data": {
            "text/plain": [
              "[['UF',\n",
              "  'Municípios',\n",
              "  'Locais de \\nprova',\n",
              "  'Coordenações',\n",
              "  'Salas de \\nprova',\n",
              "  'Inscritos'],\n",
              " ['AC', '17', '120', '130', '1.292', '38.649'],\n",
              " ['AL', '26', '228', '229', '2.591', '89.826'],\n",
              " ['AM', '56', '233', '259', '3.421', '118.149'],\n",
              " ['AP', '8', '115', '115', '1.321', '42.636'],\n",
              " ['BA', '160', '985', '1.069', '12.221', '395.437'],\n",
              " ['CE', '119', '711', '732', '8.631', '294.992'],\n",
              " ['DF', '1', '158', '166', '2.934', '95.862'],\n",
              " ['ES', '38', '186', '196', '2.935', '102.276'],\n",
              " ['GO', '55', '311', '371', '4.954', '169.984'],\n",
              " ['MA', '79', '636', '665', '6.482', '218.082'],\n",
              " ['MG', '188', '972', '1.121', '15.518', '534.648'],\n",
              " ['MS', '41', '155', '166', '2.170', '70.396'],\n",
              " ['MT', '57', '191', '210', '2.683', '88.122'],\n",
              " ['PA', '75', '741', '761', '8.521', '279.603'],\n",
              " ['PB', '51', '350', '378', '4.484', '147.182'],\n",
              " ['PE', '80', '584', '616', '7.846', '275.327'],\n",
              " ['PI', '32', '312', '340', '3.472', '122.338'],\n",
              " ['PR', '88', '369', '418', '6.479', '211.308'],\n",
              " ['RJ', '52', '554', '606', '9.820', '339.722'],\n",
              " ['RN', '40', '236', '245', '3.281', '119.324'],\n",
              " ['RO', '24', '124', '135', '1.934', '58.643'],\n",
              " ['RR', '7', '34', '41', '484', '12.959'],\n",
              " ['RS', '106', '369', '428', '6.611', '218.471'],\n",
              " ['SC', '56', '147', '209', '3.348', '110.702'],\n",
              " ['SE', '30', '180', '195', '2.328', '78.487'],\n",
              " ['SP', '210', '1.017', '1.302', '20.353', '816.014'],\n",
              " ['TO', '31', '115', '125', '1.451', '46.249'],\n",
              " ['Brasil', '1.727', '10.133', '11.228', '147.565', '5.095.388']]"
            ]
          },
          "metadata": {
            "tags": []
          },
          "execution_count": 136
        }
      ]
    },
    {
      "cell_type": "markdown",
      "metadata": {
        "id": "TL6_x_mjjMXm",
        "colab_type": "text"
      },
      "source": [
        "## Criando um Data Frame"
      ]
    },
    {
      "cell_type": "markdown",
      "metadata": {
        "id": "TOlsXphltAzp",
        "colab_type": "text"
      },
      "source": [
        "Vamos inserir todo o conteudo em uma lista **UF** vazia, para simplicar a leitura do dataset  "
      ]
    },
    {
      "cell_type": "code",
      "metadata": {
        "id": "MQWntEPSTL2X",
        "colab_type": "code",
        "colab": {
          "base_uri": "https://localhost:8080/",
          "height": 603
        },
        "outputId": "d207f12c-7e00-48e2-f2bb-339f85314e5f"
      },
      "source": [
        "# Agora vamos transformar as listas em uma tabela. \n",
        "UF=[]\n",
        "for linha in range(28):  # Criando lista com 28 estados da federação\n",
        "  UF.append(dados[0:][linha])\n",
        "\n",
        "UF  \n",
        "    \n"
      ],
      "execution_count": 137,
      "outputs": [
        {
          "output_type": "execute_result",
          "data": {
            "text/plain": [
              "[['UF',\n",
              "  'Municípios',\n",
              "  'Locais de \\nprova',\n",
              "  'Coordenações',\n",
              "  'Salas de \\nprova',\n",
              "  'Inscritos'],\n",
              " ['AC', '17', '120', '130', '1.292', '38.649'],\n",
              " ['AL', '26', '228', '229', '2.591', '89.826'],\n",
              " ['AM', '56', '233', '259', '3.421', '118.149'],\n",
              " ['AP', '8', '115', '115', '1.321', '42.636'],\n",
              " ['BA', '160', '985', '1.069', '12.221', '395.437'],\n",
              " ['CE', '119', '711', '732', '8.631', '294.992'],\n",
              " ['DF', '1', '158', '166', '2.934', '95.862'],\n",
              " ['ES', '38', '186', '196', '2.935', '102.276'],\n",
              " ['GO', '55', '311', '371', '4.954', '169.984'],\n",
              " ['MA', '79', '636', '665', '6.482', '218.082'],\n",
              " ['MG', '188', '972', '1.121', '15.518', '534.648'],\n",
              " ['MS', '41', '155', '166', '2.170', '70.396'],\n",
              " ['MT', '57', '191', '210', '2.683', '88.122'],\n",
              " ['PA', '75', '741', '761', '8.521', '279.603'],\n",
              " ['PB', '51', '350', '378', '4.484', '147.182'],\n",
              " ['PE', '80', '584', '616', '7.846', '275.327'],\n",
              " ['PI', '32', '312', '340', '3.472', '122.338'],\n",
              " ['PR', '88', '369', '418', '6.479', '211.308'],\n",
              " ['RJ', '52', '554', '606', '9.820', '339.722'],\n",
              " ['RN', '40', '236', '245', '3.281', '119.324'],\n",
              " ['RO', '24', '124', '135', '1.934', '58.643'],\n",
              " ['RR', '7', '34', '41', '484', '12.959'],\n",
              " ['RS', '106', '369', '428', '6.611', '218.471'],\n",
              " ['SC', '56', '147', '209', '3.348', '110.702'],\n",
              " ['SE', '30', '180', '195', '2.328', '78.487'],\n",
              " ['SP', '210', '1.017', '1.302', '20.353', '816.014'],\n",
              " ['TO', '31', '115', '125', '1.451', '46.249']]"
            ]
          },
          "metadata": {
            "tags": []
          },
          "execution_count": 137
        }
      ]
    },
    {
      "cell_type": "code",
      "metadata": {
        "id": "24Uih4-_XGi6",
        "colab_type": "code",
        "colab": {
          "base_uri": "https://localhost:8080/",
          "height": 887
        },
        "outputId": "b560cbff-1451-45ca-e262-36f30c6eb820"
      },
      "source": [
        "# Plotando Dataset em formato Tabular.\n",
        "df = pd.DataFrame(UF)\n",
        "print(df)\n"
      ],
      "execution_count": 138,
      "outputs": [
        {
          "output_type": "execute_result",
          "data": {
            "text/html": [
              "<div>\n",
              "<style scoped>\n",
              "    .dataframe tbody tr th:only-of-type {\n",
              "        vertical-align: middle;\n",
              "    }\n",
              "\n",
              "    .dataframe tbody tr th {\n",
              "        vertical-align: top;\n",
              "    }\n",
              "\n",
              "    .dataframe thead th {\n",
              "        text-align: right;\n",
              "    }\n",
              "</style>\n",
              "<table border=\"1\" class=\"dataframe\">\n",
              "  <thead>\n",
              "    <tr style=\"text-align: right;\">\n",
              "      <th></th>\n",
              "      <th>0</th>\n",
              "      <th>1</th>\n",
              "      <th>2</th>\n",
              "      <th>3</th>\n",
              "      <th>4</th>\n",
              "      <th>5</th>\n",
              "    </tr>\n",
              "  </thead>\n",
              "  <tbody>\n",
              "    <tr>\n",
              "      <th>0</th>\n",
              "      <td>UF</td>\n",
              "      <td>Municípios</td>\n",
              "      <td>Locais de \\nprova</td>\n",
              "      <td>Coordenações</td>\n",
              "      <td>Salas de \\nprova</td>\n",
              "      <td>Inscritos</td>\n",
              "    </tr>\n",
              "    <tr>\n",
              "      <th>1</th>\n",
              "      <td>AC</td>\n",
              "      <td>17</td>\n",
              "      <td>120</td>\n",
              "      <td>130</td>\n",
              "      <td>1.292</td>\n",
              "      <td>38.649</td>\n",
              "    </tr>\n",
              "    <tr>\n",
              "      <th>2</th>\n",
              "      <td>AL</td>\n",
              "      <td>26</td>\n",
              "      <td>228</td>\n",
              "      <td>229</td>\n",
              "      <td>2.591</td>\n",
              "      <td>89.826</td>\n",
              "    </tr>\n",
              "    <tr>\n",
              "      <th>3</th>\n",
              "      <td>AM</td>\n",
              "      <td>56</td>\n",
              "      <td>233</td>\n",
              "      <td>259</td>\n",
              "      <td>3.421</td>\n",
              "      <td>118.149</td>\n",
              "    </tr>\n",
              "    <tr>\n",
              "      <th>4</th>\n",
              "      <td>AP</td>\n",
              "      <td>8</td>\n",
              "      <td>115</td>\n",
              "      <td>115</td>\n",
              "      <td>1.321</td>\n",
              "      <td>42.636</td>\n",
              "    </tr>\n",
              "    <tr>\n",
              "      <th>5</th>\n",
              "      <td>BA</td>\n",
              "      <td>160</td>\n",
              "      <td>985</td>\n",
              "      <td>1.069</td>\n",
              "      <td>12.221</td>\n",
              "      <td>395.437</td>\n",
              "    </tr>\n",
              "    <tr>\n",
              "      <th>6</th>\n",
              "      <td>CE</td>\n",
              "      <td>119</td>\n",
              "      <td>711</td>\n",
              "      <td>732</td>\n",
              "      <td>8.631</td>\n",
              "      <td>294.992</td>\n",
              "    </tr>\n",
              "    <tr>\n",
              "      <th>7</th>\n",
              "      <td>DF</td>\n",
              "      <td>1</td>\n",
              "      <td>158</td>\n",
              "      <td>166</td>\n",
              "      <td>2.934</td>\n",
              "      <td>95.862</td>\n",
              "    </tr>\n",
              "    <tr>\n",
              "      <th>8</th>\n",
              "      <td>ES</td>\n",
              "      <td>38</td>\n",
              "      <td>186</td>\n",
              "      <td>196</td>\n",
              "      <td>2.935</td>\n",
              "      <td>102.276</td>\n",
              "    </tr>\n",
              "    <tr>\n",
              "      <th>9</th>\n",
              "      <td>GO</td>\n",
              "      <td>55</td>\n",
              "      <td>311</td>\n",
              "      <td>371</td>\n",
              "      <td>4.954</td>\n",
              "      <td>169.984</td>\n",
              "    </tr>\n",
              "    <tr>\n",
              "      <th>10</th>\n",
              "      <td>MA</td>\n",
              "      <td>79</td>\n",
              "      <td>636</td>\n",
              "      <td>665</td>\n",
              "      <td>6.482</td>\n",
              "      <td>218.082</td>\n",
              "    </tr>\n",
              "    <tr>\n",
              "      <th>11</th>\n",
              "      <td>MG</td>\n",
              "      <td>188</td>\n",
              "      <td>972</td>\n",
              "      <td>1.121</td>\n",
              "      <td>15.518</td>\n",
              "      <td>534.648</td>\n",
              "    </tr>\n",
              "    <tr>\n",
              "      <th>12</th>\n",
              "      <td>MS</td>\n",
              "      <td>41</td>\n",
              "      <td>155</td>\n",
              "      <td>166</td>\n",
              "      <td>2.170</td>\n",
              "      <td>70.396</td>\n",
              "    </tr>\n",
              "    <tr>\n",
              "      <th>13</th>\n",
              "      <td>MT</td>\n",
              "      <td>57</td>\n",
              "      <td>191</td>\n",
              "      <td>210</td>\n",
              "      <td>2.683</td>\n",
              "      <td>88.122</td>\n",
              "    </tr>\n",
              "    <tr>\n",
              "      <th>14</th>\n",
              "      <td>PA</td>\n",
              "      <td>75</td>\n",
              "      <td>741</td>\n",
              "      <td>761</td>\n",
              "      <td>8.521</td>\n",
              "      <td>279.603</td>\n",
              "    </tr>\n",
              "    <tr>\n",
              "      <th>15</th>\n",
              "      <td>PB</td>\n",
              "      <td>51</td>\n",
              "      <td>350</td>\n",
              "      <td>378</td>\n",
              "      <td>4.484</td>\n",
              "      <td>147.182</td>\n",
              "    </tr>\n",
              "    <tr>\n",
              "      <th>16</th>\n",
              "      <td>PE</td>\n",
              "      <td>80</td>\n",
              "      <td>584</td>\n",
              "      <td>616</td>\n",
              "      <td>7.846</td>\n",
              "      <td>275.327</td>\n",
              "    </tr>\n",
              "    <tr>\n",
              "      <th>17</th>\n",
              "      <td>PI</td>\n",
              "      <td>32</td>\n",
              "      <td>312</td>\n",
              "      <td>340</td>\n",
              "      <td>3.472</td>\n",
              "      <td>122.338</td>\n",
              "    </tr>\n",
              "    <tr>\n",
              "      <th>18</th>\n",
              "      <td>PR</td>\n",
              "      <td>88</td>\n",
              "      <td>369</td>\n",
              "      <td>418</td>\n",
              "      <td>6.479</td>\n",
              "      <td>211.308</td>\n",
              "    </tr>\n",
              "    <tr>\n",
              "      <th>19</th>\n",
              "      <td>RJ</td>\n",
              "      <td>52</td>\n",
              "      <td>554</td>\n",
              "      <td>606</td>\n",
              "      <td>9.820</td>\n",
              "      <td>339.722</td>\n",
              "    </tr>\n",
              "    <tr>\n",
              "      <th>20</th>\n",
              "      <td>RN</td>\n",
              "      <td>40</td>\n",
              "      <td>236</td>\n",
              "      <td>245</td>\n",
              "      <td>3.281</td>\n",
              "      <td>119.324</td>\n",
              "    </tr>\n",
              "    <tr>\n",
              "      <th>21</th>\n",
              "      <td>RO</td>\n",
              "      <td>24</td>\n",
              "      <td>124</td>\n",
              "      <td>135</td>\n",
              "      <td>1.934</td>\n",
              "      <td>58.643</td>\n",
              "    </tr>\n",
              "    <tr>\n",
              "      <th>22</th>\n",
              "      <td>RR</td>\n",
              "      <td>7</td>\n",
              "      <td>34</td>\n",
              "      <td>41</td>\n",
              "      <td>484</td>\n",
              "      <td>12.959</td>\n",
              "    </tr>\n",
              "    <tr>\n",
              "      <th>23</th>\n",
              "      <td>RS</td>\n",
              "      <td>106</td>\n",
              "      <td>369</td>\n",
              "      <td>428</td>\n",
              "      <td>6.611</td>\n",
              "      <td>218.471</td>\n",
              "    </tr>\n",
              "    <tr>\n",
              "      <th>24</th>\n",
              "      <td>SC</td>\n",
              "      <td>56</td>\n",
              "      <td>147</td>\n",
              "      <td>209</td>\n",
              "      <td>3.348</td>\n",
              "      <td>110.702</td>\n",
              "    </tr>\n",
              "    <tr>\n",
              "      <th>25</th>\n",
              "      <td>SE</td>\n",
              "      <td>30</td>\n",
              "      <td>180</td>\n",
              "      <td>195</td>\n",
              "      <td>2.328</td>\n",
              "      <td>78.487</td>\n",
              "    </tr>\n",
              "    <tr>\n",
              "      <th>26</th>\n",
              "      <td>SP</td>\n",
              "      <td>210</td>\n",
              "      <td>1.017</td>\n",
              "      <td>1.302</td>\n",
              "      <td>20.353</td>\n",
              "      <td>816.014</td>\n",
              "    </tr>\n",
              "    <tr>\n",
              "      <th>27</th>\n",
              "      <td>TO</td>\n",
              "      <td>31</td>\n",
              "      <td>115</td>\n",
              "      <td>125</td>\n",
              "      <td>1.451</td>\n",
              "      <td>46.249</td>\n",
              "    </tr>\n",
              "  </tbody>\n",
              "</table>\n",
              "</div>"
            ],
            "text/plain": [
              "     0           1  ...                 4          5\n",
              "0   UF  Municípios  ...  Salas de \\nprova  Inscritos\n",
              "1   AC          17  ...             1.292     38.649\n",
              "2   AL          26  ...             2.591     89.826\n",
              "3   AM          56  ...             3.421    118.149\n",
              "4   AP           8  ...             1.321     42.636\n",
              "5   BA         160  ...            12.221    395.437\n",
              "6   CE         119  ...             8.631    294.992\n",
              "7   DF           1  ...             2.934     95.862\n",
              "8   ES          38  ...             2.935    102.276\n",
              "9   GO          55  ...             4.954    169.984\n",
              "10  MA          79  ...             6.482    218.082\n",
              "11  MG         188  ...            15.518    534.648\n",
              "12  MS          41  ...             2.170     70.396\n",
              "13  MT          57  ...             2.683     88.122\n",
              "14  PA          75  ...             8.521    279.603\n",
              "15  PB          51  ...             4.484    147.182\n",
              "16  PE          80  ...             7.846    275.327\n",
              "17  PI          32  ...             3.472    122.338\n",
              "18  PR          88  ...             6.479    211.308\n",
              "19  RJ          52  ...             9.820    339.722\n",
              "20  RN          40  ...             3.281    119.324\n",
              "21  RO          24  ...             1.934     58.643\n",
              "22  RR           7  ...               484     12.959\n",
              "23  RS         106  ...             6.611    218.471\n",
              "24  SC          56  ...             3.348    110.702\n",
              "25  SE          30  ...             2.328     78.487\n",
              "26  SP         210  ...            20.353    816.014\n",
              "27  TO          31  ...             1.451     46.249\n",
              "\n",
              "[28 rows x 6 columns]"
            ]
          },
          "metadata": {
            "tags": []
          },
          "execution_count": 138
        }
      ]
    },
    {
      "cell_type": "code",
      "metadata": {
        "id": "rAOrV2tpfTBc",
        "colab_type": "code",
        "colab": {}
      },
      "source": [
        "# Apagando a primeira linha e criar colunas no Dataframe\n",
        "df.drop(0,axis=0,inplace=True) \n",
        "\n",
        "#Definindo as colunas do nosso Dataframe\n",
        "df.columns = ['UF',\n",
        "'Municípios',\n",
        "'Coordenações',\n",
        "'Locais de prova',\n",
        "'Salas de prova',\n",
        "'Inscritos']"
      ],
      "execution_count": 139,
      "outputs": []
    },
    {
      "cell_type": "code",
      "metadata": {
        "id": "G1TUrfTYf9BL",
        "colab_type": "code",
        "colab": {
          "base_uri": "https://localhost:8080/",
          "height": 857
        },
        "outputId": "61d2bf2f-1f95-4974-9e8f-1f5e6d87465e"
      },
      "source": [
        "print(df)"
      ],
      "execution_count": 140,
      "outputs": [
        {
          "output_type": "execute_result",
          "data": {
            "text/html": [
              "<div>\n",
              "<style scoped>\n",
              "    .dataframe tbody tr th:only-of-type {\n",
              "        vertical-align: middle;\n",
              "    }\n",
              "\n",
              "    .dataframe tbody tr th {\n",
              "        vertical-align: top;\n",
              "    }\n",
              "\n",
              "    .dataframe thead th {\n",
              "        text-align: right;\n",
              "    }\n",
              "</style>\n",
              "<table border=\"1\" class=\"dataframe\">\n",
              "  <thead>\n",
              "    <tr style=\"text-align: right;\">\n",
              "      <th></th>\n",
              "      <th>UF</th>\n",
              "      <th>Municípios</th>\n",
              "      <th>Coordenações</th>\n",
              "      <th>Locais de prova</th>\n",
              "      <th>Salas de prova</th>\n",
              "      <th>Inscritos</th>\n",
              "    </tr>\n",
              "  </thead>\n",
              "  <tbody>\n",
              "    <tr>\n",
              "      <th>1</th>\n",
              "      <td>AC</td>\n",
              "      <td>17</td>\n",
              "      <td>120</td>\n",
              "      <td>130</td>\n",
              "      <td>1.292</td>\n",
              "      <td>38.649</td>\n",
              "    </tr>\n",
              "    <tr>\n",
              "      <th>2</th>\n",
              "      <td>AL</td>\n",
              "      <td>26</td>\n",
              "      <td>228</td>\n",
              "      <td>229</td>\n",
              "      <td>2.591</td>\n",
              "      <td>89.826</td>\n",
              "    </tr>\n",
              "    <tr>\n",
              "      <th>3</th>\n",
              "      <td>AM</td>\n",
              "      <td>56</td>\n",
              "      <td>233</td>\n",
              "      <td>259</td>\n",
              "      <td>3.421</td>\n",
              "      <td>118.149</td>\n",
              "    </tr>\n",
              "    <tr>\n",
              "      <th>4</th>\n",
              "      <td>AP</td>\n",
              "      <td>8</td>\n",
              "      <td>115</td>\n",
              "      <td>115</td>\n",
              "      <td>1.321</td>\n",
              "      <td>42.636</td>\n",
              "    </tr>\n",
              "    <tr>\n",
              "      <th>5</th>\n",
              "      <td>BA</td>\n",
              "      <td>160</td>\n",
              "      <td>985</td>\n",
              "      <td>1.069</td>\n",
              "      <td>12.221</td>\n",
              "      <td>395.437</td>\n",
              "    </tr>\n",
              "    <tr>\n",
              "      <th>6</th>\n",
              "      <td>CE</td>\n",
              "      <td>119</td>\n",
              "      <td>711</td>\n",
              "      <td>732</td>\n",
              "      <td>8.631</td>\n",
              "      <td>294.992</td>\n",
              "    </tr>\n",
              "    <tr>\n",
              "      <th>7</th>\n",
              "      <td>DF</td>\n",
              "      <td>1</td>\n",
              "      <td>158</td>\n",
              "      <td>166</td>\n",
              "      <td>2.934</td>\n",
              "      <td>95.862</td>\n",
              "    </tr>\n",
              "    <tr>\n",
              "      <th>8</th>\n",
              "      <td>ES</td>\n",
              "      <td>38</td>\n",
              "      <td>186</td>\n",
              "      <td>196</td>\n",
              "      <td>2.935</td>\n",
              "      <td>102.276</td>\n",
              "    </tr>\n",
              "    <tr>\n",
              "      <th>9</th>\n",
              "      <td>GO</td>\n",
              "      <td>55</td>\n",
              "      <td>311</td>\n",
              "      <td>371</td>\n",
              "      <td>4.954</td>\n",
              "      <td>169.984</td>\n",
              "    </tr>\n",
              "    <tr>\n",
              "      <th>10</th>\n",
              "      <td>MA</td>\n",
              "      <td>79</td>\n",
              "      <td>636</td>\n",
              "      <td>665</td>\n",
              "      <td>6.482</td>\n",
              "      <td>218.082</td>\n",
              "    </tr>\n",
              "    <tr>\n",
              "      <th>11</th>\n",
              "      <td>MG</td>\n",
              "      <td>188</td>\n",
              "      <td>972</td>\n",
              "      <td>1.121</td>\n",
              "      <td>15.518</td>\n",
              "      <td>534.648</td>\n",
              "    </tr>\n",
              "    <tr>\n",
              "      <th>12</th>\n",
              "      <td>MS</td>\n",
              "      <td>41</td>\n",
              "      <td>155</td>\n",
              "      <td>166</td>\n",
              "      <td>2.170</td>\n",
              "      <td>70.396</td>\n",
              "    </tr>\n",
              "    <tr>\n",
              "      <th>13</th>\n",
              "      <td>MT</td>\n",
              "      <td>57</td>\n",
              "      <td>191</td>\n",
              "      <td>210</td>\n",
              "      <td>2.683</td>\n",
              "      <td>88.122</td>\n",
              "    </tr>\n",
              "    <tr>\n",
              "      <th>14</th>\n",
              "      <td>PA</td>\n",
              "      <td>75</td>\n",
              "      <td>741</td>\n",
              "      <td>761</td>\n",
              "      <td>8.521</td>\n",
              "      <td>279.603</td>\n",
              "    </tr>\n",
              "    <tr>\n",
              "      <th>15</th>\n",
              "      <td>PB</td>\n",
              "      <td>51</td>\n",
              "      <td>350</td>\n",
              "      <td>378</td>\n",
              "      <td>4.484</td>\n",
              "      <td>147.182</td>\n",
              "    </tr>\n",
              "    <tr>\n",
              "      <th>16</th>\n",
              "      <td>PE</td>\n",
              "      <td>80</td>\n",
              "      <td>584</td>\n",
              "      <td>616</td>\n",
              "      <td>7.846</td>\n",
              "      <td>275.327</td>\n",
              "    </tr>\n",
              "    <tr>\n",
              "      <th>17</th>\n",
              "      <td>PI</td>\n",
              "      <td>32</td>\n",
              "      <td>312</td>\n",
              "      <td>340</td>\n",
              "      <td>3.472</td>\n",
              "      <td>122.338</td>\n",
              "    </tr>\n",
              "    <tr>\n",
              "      <th>18</th>\n",
              "      <td>PR</td>\n",
              "      <td>88</td>\n",
              "      <td>369</td>\n",
              "      <td>418</td>\n",
              "      <td>6.479</td>\n",
              "      <td>211.308</td>\n",
              "    </tr>\n",
              "    <tr>\n",
              "      <th>19</th>\n",
              "      <td>RJ</td>\n",
              "      <td>52</td>\n",
              "      <td>554</td>\n",
              "      <td>606</td>\n",
              "      <td>9.820</td>\n",
              "      <td>339.722</td>\n",
              "    </tr>\n",
              "    <tr>\n",
              "      <th>20</th>\n",
              "      <td>RN</td>\n",
              "      <td>40</td>\n",
              "      <td>236</td>\n",
              "      <td>245</td>\n",
              "      <td>3.281</td>\n",
              "      <td>119.324</td>\n",
              "    </tr>\n",
              "    <tr>\n",
              "      <th>21</th>\n",
              "      <td>RO</td>\n",
              "      <td>24</td>\n",
              "      <td>124</td>\n",
              "      <td>135</td>\n",
              "      <td>1.934</td>\n",
              "      <td>58.643</td>\n",
              "    </tr>\n",
              "    <tr>\n",
              "      <th>22</th>\n",
              "      <td>RR</td>\n",
              "      <td>7</td>\n",
              "      <td>34</td>\n",
              "      <td>41</td>\n",
              "      <td>484</td>\n",
              "      <td>12.959</td>\n",
              "    </tr>\n",
              "    <tr>\n",
              "      <th>23</th>\n",
              "      <td>RS</td>\n",
              "      <td>106</td>\n",
              "      <td>369</td>\n",
              "      <td>428</td>\n",
              "      <td>6.611</td>\n",
              "      <td>218.471</td>\n",
              "    </tr>\n",
              "    <tr>\n",
              "      <th>24</th>\n",
              "      <td>SC</td>\n",
              "      <td>56</td>\n",
              "      <td>147</td>\n",
              "      <td>209</td>\n",
              "      <td>3.348</td>\n",
              "      <td>110.702</td>\n",
              "    </tr>\n",
              "    <tr>\n",
              "      <th>25</th>\n",
              "      <td>SE</td>\n",
              "      <td>30</td>\n",
              "      <td>180</td>\n",
              "      <td>195</td>\n",
              "      <td>2.328</td>\n",
              "      <td>78.487</td>\n",
              "    </tr>\n",
              "    <tr>\n",
              "      <th>26</th>\n",
              "      <td>SP</td>\n",
              "      <td>210</td>\n",
              "      <td>1.017</td>\n",
              "      <td>1.302</td>\n",
              "      <td>20.353</td>\n",
              "      <td>816.014</td>\n",
              "    </tr>\n",
              "    <tr>\n",
              "      <th>27</th>\n",
              "      <td>TO</td>\n",
              "      <td>31</td>\n",
              "      <td>115</td>\n",
              "      <td>125</td>\n",
              "      <td>1.451</td>\n",
              "      <td>46.249</td>\n",
              "    </tr>\n",
              "  </tbody>\n",
              "</table>\n",
              "</div>"
            ],
            "text/plain": [
              "    UF Municípios Coordenações Locais de prova Salas de prova Inscritos\n",
              "1   AC         17          120             130          1.292    38.649\n",
              "2   AL         26          228             229          2.591    89.826\n",
              "3   AM         56          233             259          3.421   118.149\n",
              "4   AP          8          115             115          1.321    42.636\n",
              "5   BA        160          985           1.069         12.221   395.437\n",
              "6   CE        119          711             732          8.631   294.992\n",
              "7   DF          1          158             166          2.934    95.862\n",
              "8   ES         38          186             196          2.935   102.276\n",
              "9   GO         55          311             371          4.954   169.984\n",
              "10  MA         79          636             665          6.482   218.082\n",
              "11  MG        188          972           1.121         15.518   534.648\n",
              "12  MS         41          155             166          2.170    70.396\n",
              "13  MT         57          191             210          2.683    88.122\n",
              "14  PA         75          741             761          8.521   279.603\n",
              "15  PB         51          350             378          4.484   147.182\n",
              "16  PE         80          584             616          7.846   275.327\n",
              "17  PI         32          312             340          3.472   122.338\n",
              "18  PR         88          369             418          6.479   211.308\n",
              "19  RJ         52          554             606          9.820   339.722\n",
              "20  RN         40          236             245          3.281   119.324\n",
              "21  RO         24          124             135          1.934    58.643\n",
              "22  RR          7           34              41            484    12.959\n",
              "23  RS        106          369             428          6.611   218.471\n",
              "24  SC         56          147             209          3.348   110.702\n",
              "25  SE         30          180             195          2.328    78.487\n",
              "26  SP        210        1.017           1.302         20.353   816.014\n",
              "27  TO         31          115             125          1.451    46.249"
            ]
          },
          "metadata": {
            "tags": []
          },
          "execution_count": 140
        }
      ]
    },
    {
      "cell_type": "code",
      "metadata": {
        "id": "JEzdeK0bdeYK",
        "colab_type": "code",
        "colab": {}
      },
      "source": [
        "#Definir tipos de variavei para cada colunas\n",
        "\n",
        "df['Municípios'] = df['Municípios'].astype('int64')\n",
        "df['Coordenações'] = df['Coordenações'].str.replace(\".\",\"\").astype('int64')\n",
        "df['Locais de prova']=df['Locais de prova'].str.replace(\".\",\"\").astype('int64')\n",
        "df['Salas de prova']=df['Salas de prova'].str.replace(\".\",\"\").astype('int64')\n",
        "df['Inscritos']=df['Inscritos'].str.replace(\".\",\"\").astype('int64')"
      ],
      "execution_count": 141,
      "outputs": []
    },
    {
      "cell_type": "code",
      "metadata": {
        "id": "BBDosPXxlxft",
        "colab_type": "code",
        "colab": {
          "base_uri": "https://localhost:8080/",
          "height": 141
        },
        "outputId": "4954c1fb-5249-450e-f3b3-edacce63da34"
      },
      "source": [
        "df.dtypes"
      ],
      "execution_count": 142,
      "outputs": [
        {
          "output_type": "execute_result",
          "data": {
            "text/plain": [
              "UF                 object\n",
              "Municípios          int64\n",
              "Coordenações        int64\n",
              "Locais de prova     int64\n",
              "Salas de prova      int64\n",
              "Inscritos           int64\n",
              "dtype: object"
            ]
          },
          "metadata": {
            "tags": []
          },
          "execution_count": 142
        }
      ]
    },
    {
      "cell_type": "code",
      "metadata": {
        "id": "qJUK9rWCDFyj",
        "colab_type": "code",
        "colab": {
          "base_uri": "https://localhost:8080/",
          "height": 514
        },
        "outputId": "0352f763-810d-4921-87bb-0ff1564382b7"
      },
      "source": [
        "print(df)"
      ],
      "execution_count": 146,
      "outputs": [
        {
          "output_type": "stream",
          "text": [
            "    UF  Municípios  Coordenações  Locais de prova  Salas de prova  Inscritos\n",
            "1   AC          17           120              130            1292      38649\n",
            "2   AL          26           228              229            2591      89826\n",
            "3   AM          56           233              259            3421     118149\n",
            "4   AP           8           115              115            1321      42636\n",
            "5   BA         160           985             1069           12221     395437\n",
            "6   CE         119           711              732            8631     294992\n",
            "7   DF           1           158              166            2934      95862\n",
            "8   ES          38           186              196            2935     102276\n",
            "9   GO          55           311              371            4954     169984\n",
            "10  MA          79           636              665            6482     218082\n",
            "11  MG         188           972             1121           15518     534648\n",
            "12  MS          41           155              166            2170      70396\n",
            "13  MT          57           191              210            2683      88122\n",
            "14  PA          75           741              761            8521     279603\n",
            "15  PB          51           350              378            4484     147182\n",
            "16  PE          80           584              616            7846     275327\n",
            "17  PI          32           312              340            3472     122338\n",
            "18  PR          88           369              418            6479     211308\n",
            "19  RJ          52           554              606            9820     339722\n",
            "20  RN          40           236              245            3281     119324\n",
            "21  RO          24           124              135            1934      58643\n",
            "22  RR           7            34               41             484      12959\n",
            "23  RS         106           369              428            6611     218471\n",
            "24  SC          56           147              209            3348     110702\n",
            "25  SE          30           180              195            2328      78487\n",
            "26  SP         210          1017             1302           20353     816014\n",
            "27  TO          31           115              125            1451      46249\n"
          ],
          "name": "stdout"
        }
      ]
    },
    {
      "cell_type": "markdown",
      "metadata": {
        "id": "XBf4Pdq7vV2V",
        "colab_type": "text"
      },
      "source": [
        "##Conclusão.\n",
        "\n",
        "Com base na célula acima já podemos iniciar uma analise exploratória (EDA) da tabela, porem não é o objetivo do projeto,para não torna-lo extenso pois o objetivo é somente demostrar como podemos ler um arquivo pdf e manipula-lo até virar um data set. Não importa o tamanho do arquivo o condicionamento será muito parecido com este. "
      ]
    },
    {
      "cell_type": "code",
      "metadata": {
        "id": "ODBSIE4HDMdL",
        "colab_type": "code",
        "colab": {}
      },
      "source": [
        "\n",
        "\n"
      ],
      "execution_count": null,
      "outputs": []
    }
  ]
}