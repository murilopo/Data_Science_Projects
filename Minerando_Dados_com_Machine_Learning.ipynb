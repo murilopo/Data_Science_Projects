{
  "nbformat": 4,
  "nbformat_minor": 0,
  "metadata": {
    "colab": {
      "name": "Minerando Dados com Machine Learning.ipynb",
      "provenance": [],
      "collapsed_sections": [
        "MsLltOKWtaAg"
      ],
      "authorship_tag": "ABX9TyMvu8J9cka+WmWvOv2VfovH",
      "include_colab_link": true
    },
    "kernelspec": {
      "name": "python3",
      "display_name": "Python 3"
    }
  },
  "cells": [
    {
      "cell_type": "markdown",
      "metadata": {
        "id": "view-in-github",
        "colab_type": "text"
      },
      "source": [
        "<a href=\"https://colab.research.google.com/github/murilopo/Data_Science_Projects/blob/master/Minerando_Dados_com_Machine_Learning.ipynb\" target=\"_parent\"><img src=\"https://colab.research.google.com/assets/colab-badge.svg\" alt=\"Open In Colab\"/></a>"
      ]
    },
    {
      "cell_type": "markdown",
      "metadata": {
        "id": "XV5lYAFgS8xb"
      },
      "source": [
        "## Classificador de Renda Anual (USA).\n",
        "---\n",
        "\n",
        "[![LinkedIn](https://img.shields.io/badge/LinkedIn-MuriloAugustoPó-blue.svg)](https://www.linkedin.com/in/muriloaugustopo/)\n",
        "[![GitHub](https://img.shields.io/badge/GitHub-murilopo-darkblue.svg)](https://github.com/amadords)\n",
        "\n",
        "\n",
        "Diferente do que acontece no Brasil nos Estados Unidos a faixa salarial é definida de forma Anual. Isso é bem diferente da nossa cultura cuja é feita de forma mensal. Veja bem, nos Estados Unidos um funcioário que recebe 50 (cinquente mil reais) / ano equivale a um sálario mensal de 4.166 (quatro mil cento e sessenta e seis reais) \n",
        "\n",
        "<image width= '80%' src = 'https://image.freepik.com/free-vector/global-economy-money-business_24877-50954.jpg'>\n"
      ]
    },
    {
      "cell_type": "markdown",
      "metadata": {
        "id": "5vVM3r-nTJrl"
      },
      "source": [
        "## Objetivo\n",
        "---\n",
        "\n",
        "O objetivo deste notebook é fazer uma análise de Machine Learning se é possivel apartir de algumas `features` detectar se a renda de uma pessoa excede o valor de 50 (cinquenta) mil dólares por ano.\n",
        "\n",
        "Habilidades Avaliadas\n",
        "- Técnicas de Transformação e Preparação de dados\n",
        "- Aplicação, Avaliação e `Tunning` de Modelos de Machine Learning para Classificação.\n",
        "\n",
        "O **dataset** para este documento pode ser visualizado neste link - [Adult Names](https://www.dropbox.com/s/609ndu8uknr31jd/adult.data.csv?dl=0)"
      ]
    },
    {
      "cell_type": "markdown",
      "metadata": {
        "id": "8MuYDzqDeErE"
      },
      "source": [
        "##Checklist\n",
        "---\n",
        "1. Conhecendo a Base de Dados\n",
        "2. Visualizando Distribuições\n",
        "3. Substituindo os Valores Faltantes\n",
        "4. Selecionando Features Importantes\n",
        "5. Treinando Modelos de Machine Learning\n",
        "6. Fazendo Tuning do Modelo\n",
        "7. Preparando a Versão Final do Modelo\n",
        "8. Persistindo o Modelo em Disco"
      ]
    },
    {
      "cell_type": "markdown",
      "metadata": {
        "id": "l95VrDsMeHiJ"
      },
      "source": [
        "## 1.Conhecendo o Banco de Dados.\n",
        "\n",
        "Descrição das Features: \n",
        "\n",
        "`Age` : Idade\n",
        "\n",
        "`Workclass`: Para qual prgão o funcionário trabalha: Privado, Empreendedor, Publico, Nunca trabalhou e Desempregado\n",
        "\n",
        "`Fnlwgt` : Peso\n",
        "\n",
        "`Education` : Nivel de escolaridade.\n",
        "\n",
        "`marital.status` : Status : Solteiro, Casado, Divorciado.\n",
        "\n",
        "`Ocupation`= Trabalho atual (Tech-support, Craft-repair, Other-service, Sales, Exec-managerial, Prof-specialty, Handlers-cleaners, Machine-op-inspct, Adm-clerical, Farming-fishing, Transport-moving, Priv-house-serv, Protective-serv, Armed-Forces)\n",
        "\n",
        "`relationship`: Relacionamento (Esposa, Filha Própria, Marido, Não-familiar, Outro-parente, Solteira.)\n",
        "\n",
        "`race`: Raça (Preto, branco, asiático-Pac-Islander, Amer-Indian-Eskimo, Outro.)\n",
        "\n",
        "`sex`: Sexo(Feminino, Masculino).\n",
        "\n",
        "`capital-gain`: Ganho de Capital.\n",
        "\n",
        "`capital-loss`: Perda de Capital.\n",
        "\n",
        "`hours-per-week`: Horas de trabalho por Semana.\n",
        "\n",
        "`native-country`: País Nativo (Estados Unidos, Camboja, Inglaterra, Porto Rico, Canadá, Alemanha, EUA (Guam-USVI-etc), Índia, México, Portugal etc).\n",
        "\n",
        "`income`: Renda em dólar, por ano.\n",
        "\n",
        "\n",
        "\n",
        "\n"
      ]
    },
    {
      "cell_type": "markdown",
      "metadata": {
        "id": "hWRj2WJUfB0c"
      },
      "source": [
        "**Importando Banco de Dados**"
      ]
    },
    {
      "cell_type": "code",
      "metadata": {
        "id": "y3kk5CDHe8du"
      },
      "source": [
        "import pandas as pd \n",
        "\n",
        "from sklearn.preprocessing import LabelEncoder\n",
        "from sklearn.model_selection import StratifiedKFold\n",
        "from sklearn.pipeline import Pipeline\n",
        "from sklearn.model_selection import RandomizedSearchCV\n",
        "from sklearn import model_selection\n",
        "from sklearn.linear_model import LogisticRegression\n",
        "from sklearn.tree import DecisionTreeClassifier\n",
        "from sklearn.neighbors import KNeighborsClassifier\n",
        "from sklearn.ensemble import RandomForestClassifier\n",
        "from sklearn.naive_bayes import GaussianNB\n",
        "from sklearn.preprocessing import StandardScaler\n",
        "from sklearn.metrics import accuracy_score\n",
        "from sklearn.model_selection import cross_val_predict\n",
        "from sklearn.metrics import confusion_matrix\n",
        "from sklearn.metrics import classification_report\n",
        "from warnings import simplefilter\n",
        "import pickle\n",
        "from joblib import dump\n",
        "import seaborn as sns\n",
        "import matplotlib.pyplot as plt\n",
        "from matplotlib import style\n",
        "style.use('ggplot')"
      ],
      "execution_count": 129,
      "outputs": []
    },
    {
      "cell_type": "code",
      "metadata": {
        "id": "-jLRHg6Lgq2L"
      },
      "source": [
        "df = pd.read_csv(\"https://www.dropbox.com/s/rlpj5coh1kai7ar/adult.csv?dl=1\",na_values=\"?\")\n"
      ],
      "execution_count": 130,
      "outputs": []
    },
    {
      "cell_type": "code",
      "metadata": {
        "id": "LQkhrKx3g2TH"
      },
      "source": [
        "#Remover colunas desnecessárias \n",
        "#df.drop(labels=['fnlwgt','education.num'],axis=1,inplace = True,)\n",
        "# Importar as 5 primeiras linhas\n",
        "#df.head()"
      ],
      "execution_count": 131,
      "outputs": []
    },
    {
      "cell_type": "markdown",
      "metadata": {
        "id": "wBedKCjcTUTX"
      },
      "source": [
        "**Formato do DataFrame**"
      ]
    },
    {
      "cell_type": "code",
      "metadata": {
        "id": "GFAI4Y3qTZHE",
        "outputId": "dfaa4b4b-1126-4959-f6fb-7a55c380bb4e",
        "colab": {
          "base_uri": "https://localhost:8080/",
          "height": 66
        }
      },
      "source": [
        "print(\"Formato do DataFrme:\")\n",
        "print(\"Numero de linhas: \\t{}\".format(df.shape[0]))\n",
        "print(\"Numero de Colunas: \\t{}\".format(df.shape[1]))"
      ],
      "execution_count": 132,
      "outputs": [
        {
          "output_type": "stream",
          "text": [
            "Formato do DataFrme:\n",
            "Numero de linhas: \t32561\n",
            "Numero de Colunas: \t15\n"
          ],
          "name": "stdout"
        }
      ]
    },
    {
      "cell_type": "markdown",
      "metadata": {
        "id": "WINQgt6ZVuX2"
      },
      "source": [
        "**Dados Estatisticos do Dataframe**\n",
        "\n",
        "O método `describe` nos mostra a distribuição `Numéricas`(Variaveis de tipo `int` ou `float`)  de cada feature de nosso data frame. Assim conseguimos ter uma noção em qual quadrante está alocado a maior parte dos dados. \n",
        "Em caso de duvídas segue artigo de análise de um [Box Splot](https://medium.com/@raghavan99o/box-and-whisker-plot-aka-box-plot-explained-e0f32550e576) para estudo.\n"
      ]
    },
    {
      "cell_type": "code",
      "metadata": {
        "id": "bOTxUzYJhaaU",
        "outputId": "23a4dad4-4a96-422a-eb8a-e78a5c24403e",
        "colab": {
          "base_uri": "https://localhost:8080/",
          "height": 277
        }
      },
      "source": [
        "\n",
        "df.describe()"
      ],
      "execution_count": 133,
      "outputs": [
        {
          "output_type": "execute_result",
          "data": {
            "text/html": [
              "<div>\n",
              "<style scoped>\n",
              "    .dataframe tbody tr th:only-of-type {\n",
              "        vertical-align: middle;\n",
              "    }\n",
              "\n",
              "    .dataframe tbody tr th {\n",
              "        vertical-align: top;\n",
              "    }\n",
              "\n",
              "    .dataframe thead th {\n",
              "        text-align: right;\n",
              "    }\n",
              "</style>\n",
              "<table border=\"1\" class=\"dataframe\">\n",
              "  <thead>\n",
              "    <tr style=\"text-align: right;\">\n",
              "      <th></th>\n",
              "      <th>age</th>\n",
              "      <th>fnlwgt</th>\n",
              "      <th>education.num</th>\n",
              "      <th>capital.gain</th>\n",
              "      <th>capital.loss</th>\n",
              "      <th>hours.per.week</th>\n",
              "    </tr>\n",
              "  </thead>\n",
              "  <tbody>\n",
              "    <tr>\n",
              "      <th>count</th>\n",
              "      <td>32561.000000</td>\n",
              "      <td>3.256100e+04</td>\n",
              "      <td>32561.000000</td>\n",
              "      <td>32561.000000</td>\n",
              "      <td>32561.000000</td>\n",
              "      <td>32561.000000</td>\n",
              "    </tr>\n",
              "    <tr>\n",
              "      <th>mean</th>\n",
              "      <td>38.581647</td>\n",
              "      <td>1.897784e+05</td>\n",
              "      <td>10.080679</td>\n",
              "      <td>1077.648844</td>\n",
              "      <td>87.303830</td>\n",
              "      <td>40.437456</td>\n",
              "    </tr>\n",
              "    <tr>\n",
              "      <th>std</th>\n",
              "      <td>13.640433</td>\n",
              "      <td>1.055500e+05</td>\n",
              "      <td>2.572720</td>\n",
              "      <td>7385.292085</td>\n",
              "      <td>402.960219</td>\n",
              "      <td>12.347429</td>\n",
              "    </tr>\n",
              "    <tr>\n",
              "      <th>min</th>\n",
              "      <td>17.000000</td>\n",
              "      <td>1.228500e+04</td>\n",
              "      <td>1.000000</td>\n",
              "      <td>0.000000</td>\n",
              "      <td>0.000000</td>\n",
              "      <td>1.000000</td>\n",
              "    </tr>\n",
              "    <tr>\n",
              "      <th>25%</th>\n",
              "      <td>28.000000</td>\n",
              "      <td>1.178270e+05</td>\n",
              "      <td>9.000000</td>\n",
              "      <td>0.000000</td>\n",
              "      <td>0.000000</td>\n",
              "      <td>40.000000</td>\n",
              "    </tr>\n",
              "    <tr>\n",
              "      <th>50%</th>\n",
              "      <td>37.000000</td>\n",
              "      <td>1.783560e+05</td>\n",
              "      <td>10.000000</td>\n",
              "      <td>0.000000</td>\n",
              "      <td>0.000000</td>\n",
              "      <td>40.000000</td>\n",
              "    </tr>\n",
              "    <tr>\n",
              "      <th>75%</th>\n",
              "      <td>48.000000</td>\n",
              "      <td>2.370510e+05</td>\n",
              "      <td>12.000000</td>\n",
              "      <td>0.000000</td>\n",
              "      <td>0.000000</td>\n",
              "      <td>45.000000</td>\n",
              "    </tr>\n",
              "    <tr>\n",
              "      <th>max</th>\n",
              "      <td>90.000000</td>\n",
              "      <td>1.484705e+06</td>\n",
              "      <td>16.000000</td>\n",
              "      <td>99999.000000</td>\n",
              "      <td>4356.000000</td>\n",
              "      <td>99.000000</td>\n",
              "    </tr>\n",
              "  </tbody>\n",
              "</table>\n",
              "</div>"
            ],
            "text/plain": [
              "                age        fnlwgt  ...  capital.loss  hours.per.week\n",
              "count  32561.000000  3.256100e+04  ...  32561.000000    32561.000000\n",
              "mean      38.581647  1.897784e+05  ...     87.303830       40.437456\n",
              "std       13.640433  1.055500e+05  ...    402.960219       12.347429\n",
              "min       17.000000  1.228500e+04  ...      0.000000        1.000000\n",
              "25%       28.000000  1.178270e+05  ...      0.000000       40.000000\n",
              "50%       37.000000  1.783560e+05  ...      0.000000       40.000000\n",
              "75%       48.000000  2.370510e+05  ...      0.000000       45.000000\n",
              "max       90.000000  1.484705e+06  ...   4356.000000       99.000000\n",
              "\n",
              "[8 rows x 6 columns]"
            ]
          },
          "metadata": {
            "tags": []
          },
          "execution_count": 133
        }
      ]
    },
    {
      "cell_type": "markdown",
      "metadata": {
        "id": "7yNliQ5Ll_rH"
      },
      "source": [
        "**Estatística descritiva para variaveis Categóricas**\n",
        "\n",
        "Como podemos ver abaixo a informação descritiva nos mostra. \n",
        "- Count : Número de linhas preenchidadas para cada `feature`.\n",
        "- Unique: Nº Valores únicos de cada `feature`.\n",
        "- top: Valor mais repetido\n",
        "- Freq: Frequência de quanto o valor top se repetiu \n",
        "Vale ressaltar que no include=['O'] é a letra \"Ó\" maiúscula e não o número zero."
      ]
    },
    {
      "cell_type": "code",
      "metadata": {
        "id": "KtBRmRZGkvWD",
        "outputId": "19fbafec-cd60-4111-a002-ab8f99daa94c",
        "colab": {
          "base_uri": "https://localhost:8080/",
          "height": 162
        }
      },
      "source": [
        "df.describe(include=['O'])"
      ],
      "execution_count": 134,
      "outputs": [
        {
          "output_type": "execute_result",
          "data": {
            "text/html": [
              "<div>\n",
              "<style scoped>\n",
              "    .dataframe tbody tr th:only-of-type {\n",
              "        vertical-align: middle;\n",
              "    }\n",
              "\n",
              "    .dataframe tbody tr th {\n",
              "        vertical-align: top;\n",
              "    }\n",
              "\n",
              "    .dataframe thead th {\n",
              "        text-align: right;\n",
              "    }\n",
              "</style>\n",
              "<table border=\"1\" class=\"dataframe\">\n",
              "  <thead>\n",
              "    <tr style=\"text-align: right;\">\n",
              "      <th></th>\n",
              "      <th>workclass</th>\n",
              "      <th>education</th>\n",
              "      <th>marital.status</th>\n",
              "      <th>occupation</th>\n",
              "      <th>relationship</th>\n",
              "      <th>race</th>\n",
              "      <th>sex</th>\n",
              "      <th>native.country</th>\n",
              "      <th>income</th>\n",
              "    </tr>\n",
              "  </thead>\n",
              "  <tbody>\n",
              "    <tr>\n",
              "      <th>count</th>\n",
              "      <td>30725</td>\n",
              "      <td>32561</td>\n",
              "      <td>32561</td>\n",
              "      <td>30718</td>\n",
              "      <td>32561</td>\n",
              "      <td>32561</td>\n",
              "      <td>32561</td>\n",
              "      <td>31978</td>\n",
              "      <td>32561</td>\n",
              "    </tr>\n",
              "    <tr>\n",
              "      <th>unique</th>\n",
              "      <td>8</td>\n",
              "      <td>16</td>\n",
              "      <td>7</td>\n",
              "      <td>14</td>\n",
              "      <td>6</td>\n",
              "      <td>5</td>\n",
              "      <td>2</td>\n",
              "      <td>41</td>\n",
              "      <td>2</td>\n",
              "    </tr>\n",
              "    <tr>\n",
              "      <th>top</th>\n",
              "      <td>Private</td>\n",
              "      <td>HS-grad</td>\n",
              "      <td>Married-civ-spouse</td>\n",
              "      <td>Prof-specialty</td>\n",
              "      <td>Husband</td>\n",
              "      <td>White</td>\n",
              "      <td>Male</td>\n",
              "      <td>United-States</td>\n",
              "      <td>&lt;=50K</td>\n",
              "    </tr>\n",
              "    <tr>\n",
              "      <th>freq</th>\n",
              "      <td>22696</td>\n",
              "      <td>10501</td>\n",
              "      <td>14976</td>\n",
              "      <td>4140</td>\n",
              "      <td>13193</td>\n",
              "      <td>27816</td>\n",
              "      <td>21790</td>\n",
              "      <td>29170</td>\n",
              "      <td>24720</td>\n",
              "    </tr>\n",
              "  </tbody>\n",
              "</table>\n",
              "</div>"
            ],
            "text/plain": [
              "       workclass education      marital.status  ...    sex native.country income\n",
              "count      30725     32561               32561  ...  32561          31978  32561\n",
              "unique         8        16                   7  ...      2             41      2\n",
              "top      Private   HS-grad  Married-civ-spouse  ...   Male  United-States  <=50K\n",
              "freq       22696     10501               14976  ...  21790          29170  24720\n",
              "\n",
              "[4 rows x 9 columns]"
            ]
          },
          "metadata": {
            "tags": []
          },
          "execution_count": 134
        }
      ]
    },
    {
      "cell_type": "markdown",
      "metadata": {
        "id": "KJEp_8BAhhUJ"
      },
      "source": [
        "\n",
        "**Tipos de variáveis de cada feature**\n"
      ]
    },
    {
      "cell_type": "code",
      "metadata": {
        "id": "78bdSg0zU4wJ",
        "outputId": "b4efcf82-026e-48ed-9925-e970e5873efb",
        "colab": {
          "base_uri": "https://localhost:8080/",
          "height": 277
        }
      },
      "source": [
        "df.dtypes"
      ],
      "execution_count": 135,
      "outputs": [
        {
          "output_type": "execute_result",
          "data": {
            "text/plain": [
              "age                int64\n",
              "workclass         object\n",
              "fnlwgt             int64\n",
              "education         object\n",
              "education.num      int64\n",
              "marital.status    object\n",
              "occupation        object\n",
              "relationship      object\n",
              "race              object\n",
              "sex               object\n",
              "capital.gain       int64\n",
              "capital.loss       int64\n",
              "hours.per.week     int64\n",
              "native.country    object\n",
              "income            object\n",
              "dtype: object"
            ]
          },
          "metadata": {
            "tags": []
          },
          "execution_count": 135
        }
      ]
    },
    {
      "cell_type": "markdown",
      "metadata": {
        "id": "dRdUEhZmVqC9"
      },
      "source": [
        "**Verificando Valores Nulos**"
      ]
    },
    {
      "cell_type": "code",
      "metadata": {
        "id": "ofPG5mjAhC_V",
        "outputId": "a4f7a541-443f-4123-aef9-90c63e206ae4",
        "colab": {
          "base_uri": "https://localhost:8080/",
          "height": 277
        }
      },
      "source": [
        "# Verificar se existe Linhas Nulas %\n",
        "\n",
        "df.isnull().sum()/(df.shape[0])*100"
      ],
      "execution_count": 136,
      "outputs": [
        {
          "output_type": "execute_result",
          "data": {
            "text/plain": [
              "age               0.000000\n",
              "workclass         5.638647\n",
              "fnlwgt            0.000000\n",
              "education         0.000000\n",
              "education.num     0.000000\n",
              "marital.status    0.000000\n",
              "occupation        5.660146\n",
              "relationship      0.000000\n",
              "race              0.000000\n",
              "sex               0.000000\n",
              "capital.gain      0.000000\n",
              "capital.loss      0.000000\n",
              "hours.per.week    0.000000\n",
              "native.country    1.790486\n",
              "income            0.000000\n",
              "dtype: float64"
            ]
          },
          "metadata": {
            "tags": []
          },
          "execution_count": 136
        }
      ]
    },
    {
      "cell_type": "markdown",
      "metadata": {
        "id": "xEPXa9nGlOvf"
      },
      "source": [
        "A coluna que possui maior numero de valores nulos representa 5 % do total. \n",
        "\n",
        "Após toda a análise dos dados e de visualizações de introdução, inseriremos dados nas células nulas afim de gerar um modelo de Machine Learning para caso.\n"
      ]
    },
    {
      "cell_type": "markdown",
      "metadata": {
        "id": "MsLltOKWtaAg"
      },
      "source": [
        "## 2. Visualizando Distribuições\n",
        "\n",
        "Aqui há algo a ser ressaltado. Veja que o valor >50K é cerca de três vezes menor que o valor <=50, isso pode ser prejudicial ao modelo.Quando nossa **variável alvo** esta muito desbalanceado, pode acarretar grande erro no modelo de machine learning. Para esse caso fiz um projeto de [Detecções de Fraudes em Cartão de crédito](https://bityli.com/ZHAYj) que explica isso muito bem."
      ]
    },
    {
      "cell_type": "code",
      "metadata": {
        "id": "ruBcWEuJeLAs",
        "outputId": "46bc4144-ab6c-41b4-bd6b-16aed3258b86",
        "colab": {
          "base_uri": "https://localhost:8080/",
          "height": 0
        }
      },
      "source": [
        "# Balanceamento formato\n",
        "\n",
        "df['income'].value_counts()"
      ],
      "execution_count": 137,
      "outputs": [
        {
          "output_type": "execute_result",
          "data": {
            "text/plain": [
              "<=50K    24720\n",
              ">50K      7841\n",
              "Name: income, dtype: int64"
            ]
          },
          "metadata": {
            "tags": []
          },
          "execution_count": 137
        }
      ]
    },
    {
      "cell_type": "code",
      "metadata": {
        "id": "7GtqB8LknkrN",
        "outputId": "3c952f21-cfb6-424c-bb1f-a56ae3214728",
        "colab": {
          "base_uri": "https://localhost:8080/",
          "height": 0
        }
      },
      "source": [
        "# Verificar o balanceamento das variaveis.  >s0k , < 50 k \n",
        "\n",
        "sns.countplot(x= 'income',data= df);\n"
      ],
      "execution_count": 138,
      "outputs": [
        {
          "output_type": "display_data",
          "data": {
            "image/png": "[encoded data removed]",
            "text/plain": [
              "<Figure size 432x288 with 1 Axes>"
            ]
          },
          "metadata": {
            "tags": []
          }
        }
      ]
    },
    {
      "cell_type": "markdown",
      "metadata": {
        "id": "gRYUmLVMgfb9"
      },
      "source": [
        "\n",
        "**Distribuição por Nivel de escolaridade**\n",
        "\n",
        "Destaque para HS-grad, Some-college e Bachelors."
      ]
    },
    {
      "cell_type": "code",
      "metadata": {
        "id": "VDXAwxiJd6Sg",
        "outputId": "c5d7febd-1091-44b8-e1d2-969fc0131b00",
        "colab": {
          "base_uri": "https://localhost:8080/",
          "height": 0
        }
      },
      "source": [
        "plt.figure(figsize=(20,10))\n",
        "sns.countplot(x= 'education',data=df,hue='income',)\n",
        "plt.legend(loc='upper right')\n",
        "plt.xticks(rotation=90)\n",
        "plt.show()"
      ],
      "execution_count": 139,
      "outputs": [
        {
          "output_type": "display_data",
          "data": {
            "image/png": "[encoded data removed]",
            "text/plain": [
              "<Figure size 1440x720 with 1 Axes>"
            ]
          },
          "metadata": {
            "tags": []
          }
        }
      ]
    },
    {
      "cell_type": "markdown",
      "metadata": {
        "id": "jukeh0_3Ed1V"
      },
      "source": [
        "**Distribuição das classes \"Education\"**"
      ]
    },
    {
      "cell_type": "code",
      "metadata": {
        "id": "Yz3IC1cx_2_s",
        "outputId": "b2197170-6771-4da6-a036-12640efc1866",
        "colab": {
          "base_uri": "https://localhost:8080/",
          "height": 0
        }
      },
      "source": [
        "df['education'].value_counts()"
      ],
      "execution_count": 140,
      "outputs": [
        {
          "output_type": "execute_result",
          "data": {
            "text/plain": [
              "HS-grad         10501\n",
              "Some-college     7291\n",
              "Bachelors        5355\n",
              "Masters          1723\n",
              "Assoc-voc        1382\n",
              "11th             1175\n",
              "Assoc-acdm       1067\n",
              "10th              933\n",
              "7th-8th           646\n",
              "Prof-school       576\n",
              "9th               514\n",
              "12th              433\n",
              "Doctorate         413\n",
              "5th-6th           333\n",
              "1st-4th           168\n",
              "Preschool          51\n",
              "Name: education, dtype: int64"
            ]
          },
          "metadata": {
            "tags": []
          },
          "execution_count": 140
        }
      ]
    },
    {
      "cell_type": "markdown",
      "metadata": {
        "id": "OfxmNULFGKwu"
      },
      "source": [
        "**Verificando a menor e a maior Jornada**\n"
      ]
    },
    {
      "cell_type": "code",
      "metadata": {
        "id": "KSDe0vw6GB8D",
        "outputId": "7bd0145e-d2b1-4b85-f338-2c8cdf84c825",
        "colab": {
          "base_uri": "https://localhost:8080/",
          "height": 0
        }
      },
      "source": [
        "print('Maior carga horária:', df['hours.per.week'].max(),'horas/semana')\n",
        "print('Menor carga horária:', df['hours.per.week'].min(),'horas/semana')"
      ],
      "execution_count": 141,
      "outputs": [
        {
          "output_type": "stream",
          "text": [
            "Maior carga horária: 99 horas/semana\n",
            "Menor carga horária: 1 horas/semana\n"
          ],
          "name": "stdout"
        }
      ]
    },
    {
      "cell_type": "markdown",
      "metadata": {
        "id": "7o-PscXRJZYZ"
      },
      "source": [
        "DIante dessa grande diferença, provavelmente os valores não estão disseminados."
      ]
    },
    {
      "cell_type": "markdown",
      "metadata": {
        "id": "pHZdBdxsHIvs"
      },
      "source": [
        "**Valores Únicos**\n",
        "\n"
      ]
    },
    {
      "cell_type": "code",
      "metadata": {
        "id": "I5D-c0HCGrln",
        "outputId": "4bb2fd86-18e3-4e7a-feed-3ddcc388855a",
        "colab": {
          "base_uri": "https://localhost:8080/",
          "height": 0
        }
      },
      "source": [
        "# visualizar colunas contagem e valores horas por semana. \n",
        "hour =pd.DataFrame(df['hours.per.week'].value_counts())\n",
        "hour.reset_index(inplace=True)\n",
        "hour.columns = (['Valores','Horas'])\n",
        "list(hour.values)"
      ],
      "execution_count": 142,
      "outputs": [
        {
          "output_type": "execute_result",
          "data": {
            "text/plain": [
              "[array([   40, 15217]),\n",
              " array([  50, 2819]),\n",
              " array([  45, 1824]),\n",
              " array([  60, 1475]),\n",
              " array([  35, 1297]),\n",
              " array([  20, 1224]),\n",
              " array([  30, 1149]),\n",
              " array([ 55, 694]),\n",
              " array([ 25, 674]),\n",
              " array([ 48, 517]),\n",
              " array([ 38, 476]),\n",
              " array([ 15, 404]),\n",
              " array([ 70, 291]),\n",
              " array([ 10, 278]),\n",
              " array([ 32, 266]),\n",
              " array([ 24, 252]),\n",
              " array([ 65, 244]),\n",
              " array([ 36, 220]),\n",
              " array([ 42, 219]),\n",
              " array([ 44, 212]),\n",
              " array([ 16, 205]),\n",
              " array([ 12, 173]),\n",
              " array([ 43, 151]),\n",
              " array([ 37, 149]),\n",
              " array([  8, 145]),\n",
              " array([ 52, 138]),\n",
              " array([ 80, 133]),\n",
              " array([56, 97]),\n",
              " array([28, 86]),\n",
              " array([99, 85]),\n",
              " array([46, 82]),\n",
              " array([18, 75]),\n",
              " array([72, 71]),\n",
              " array([75, 66]),\n",
              " array([ 6, 64]),\n",
              " array([ 5, 60]),\n",
              " array([ 4, 54]),\n",
              " array([47, 49]),\n",
              " array([84, 45]),\n",
              " array([22, 44]),\n",
              " array([54, 41]),\n",
              " array([ 3, 39]),\n",
              " array([33, 39]),\n",
              " array([39, 38]),\n",
              " array([41, 36]),\n",
              " array([14, 34]),\n",
              " array([ 2, 32]),\n",
              " array([27, 30]),\n",
              " array([26, 30]),\n",
              " array([17, 29]),\n",
              " array([49, 29]),\n",
              " array([90, 29]),\n",
              " array([58, 28]),\n",
              " array([34, 28]),\n",
              " array([ 7, 26]),\n",
              " array([53, 25]),\n",
              " array([21, 24]),\n",
              " array([13, 23]),\n",
              " array([23, 21]),\n",
              " array([ 1, 20]),\n",
              " array([62, 18]),\n",
              " array([ 9, 18]),\n",
              " array([66, 17]),\n",
              " array([57, 17]),\n",
              " array([19, 14]),\n",
              " array([64, 14]),\n",
              " array([51, 13]),\n",
              " array([85, 13]),\n",
              " array([68, 12]),\n",
              " array([98, 11]),\n",
              " array([11, 11]),\n",
              " array([63, 10]),\n",
              " array([78,  8]),\n",
              " array([29,  7]),\n",
              " array([77,  6]),\n",
              " array([59,  5]),\n",
              " array([31,  5]),\n",
              " array([96,  5]),\n",
              " array([67,  4]),\n",
              " array([91,  3]),\n",
              " array([76,  3]),\n",
              " array([81,  3]),\n",
              " array([73,  2]),\n",
              " array([89,  2]),\n",
              " array([97,  2]),\n",
              " array([88,  2]),\n",
              " array([86,  2]),\n",
              " array([61,  2]),\n",
              " array([95,  2]),\n",
              " array([92,  1]),\n",
              " array([94,  1]),\n",
              " array([87,  1]),\n",
              " array([74,  1]),\n",
              " array([82,  1])]"
            ]
          },
          "metadata": {
            "tags": []
          },
          "execution_count": 142
        }
      ]
    },
    {
      "cell_type": "markdown",
      "metadata": {
        "id": "IqH4Vy9OLbUW"
      },
      "source": [
        "Veja a dificuldade em visualizar a coluna 'hours-per-week'. Vamos fazer um Scatel plot "
      ]
    },
    {
      "cell_type": "code",
      "metadata": {
        "id": "EZxh9NWhIKQ_",
        "outputId": "f4b5f1a8-7289-4402-aabe-4824c8c06d62",
        "colab": {
          "base_uri": "https://localhost:8080/",
          "height": 0
        }
      },
      "source": [
        "sns.scatterplot(data = hour,y = 'Horas',x= 'Valores');"
      ],
      "execution_count": 143,
      "outputs": [
        {
          "output_type": "display_data",
          "data": {
            "image/png": "[encoded data removed]",
            "text/plain": [
              "<Figure size 432x288 with 1 Axes>"
            ]
          },
          "metadata": {
            "tags": []
          }
        }
      ]
    },
    {
      "cell_type": "markdown",
      "metadata": {
        "id": "nkqAjDzARGS1"
      },
      "source": [
        "**Discretizando Dados**\n",
        "\n",
        "Veja que mesmo com a contagem de valores a visualização está bem ruim, por isso é interessante dividir por categorias.\n",
        "\n",
        "O único insight que podemos tirar desses gráficos é que há apenas um valor em horas de trabalho que realmente é expressivo. 40h semanais com 15217 contagens.\n",
        "\n",
        "Além de que, isso não nos mostra nada em relação ao valor final.\n",
        "\n",
        "Na verdade, se houvesse a intenção de entender algo em relação a essa distribuição, poderiamos utilizar apenas partes dos dados, mas na verdade o que queremos é entender como se relaciona com os valores trabalhados por horas. \n",
        "\n",
        "Pra isso será feita uma categorização (discretização ou binarização) dos dados e todos esses 94 dados serão divididos em 3 categorias, que serão:\n",
        "\n",
        "- 0-30 (jornada curta)\n",
        "- 30-40 (jornada normal)\n",
        "- 40-100 (jornada extra)\n"
      ]
    },
    {
      "cell_type": "code",
      "metadata": {
        "id": "JxqZCsNYNdLy"
      },
      "source": [
        "df['hours.per.week'] = pd.cut(df['hours.per.week'],[0,30,40,100],labels= ['Short','normal','extra'])\n"
      ],
      "execution_count": 144,
      "outputs": []
    },
    {
      "cell_type": "markdown",
      "metadata": {
        "id": "6dyDVaiNVfKL"
      },
      "source": [
        "**Distribuição das classes por horas trabalhadas**\n"
      ]
    },
    {
      "cell_type": "code",
      "metadata": {
        "id": "5ZY1qpriVcXq",
        "outputId": "acd8d91b-5fc6-4fac-ed07-a47937c27f26",
        "colab": {
          "base_uri": "https://localhost:8080/",
          "height": 0
        }
      },
      "source": [
        "plt.figure(figsize=(8,6))\n",
        "sns.countplot(data = df,x=\"hours.per.week\",hue=\"income\");"
      ],
      "execution_count": 145,
      "outputs": [
        {
          "output_type": "display_data",
          "data": {
            "image/png": "[encoded data removed]",
            "text/plain": [
              "<Figure size 576x432 with 1 Axes>"
            ]
          },
          "metadata": {
            "tags": []
          }
        }
      ]
    },
    {
      "cell_type": "markdown",
      "metadata": {
        "id": "3utI9iWjY9qw"
      },
      "source": [
        "**Agora vamos verificar a nova distribuição com os dados já discretizados**"
      ]
    },
    {
      "cell_type": "code",
      "metadata": {
        "id": "3APeXq4dYk7H",
        "outputId": "dddd7ba3-052f-4130-d716-45a50e0e4d56",
        "colab": {
          "base_uri": "https://localhost:8080/",
          "height": 0
        }
      },
      "source": [
        "df['hours.per.week'].value_counts()"
      ],
      "execution_count": 146,
      "outputs": [
        {
          "output_type": "execute_result",
          "data": {
            "text/plain": [
              "normal    17735\n",
              "extra      9581\n",
              "Short      5245\n",
              "Name: hours.per.week, dtype: int64"
            ]
          },
          "metadata": {
            "tags": []
          },
          "execution_count": 146
        }
      ]
    },
    {
      "cell_type": "markdown",
      "metadata": {
        "id": "liD4macdfCKM"
      },
      "source": [
        "**Distribuição das classes de acordo com a ocupação**"
      ]
    },
    {
      "cell_type": "code",
      "metadata": {
        "id": "BNmdfeRAe-Im",
        "outputId": "e6e08bab-39c0-429f-cc98-9f54fc010687",
        "colab": {
          "base_uri": "https://localhost:8080/",
          "height": 0
        }
      },
      "source": [
        "plt.figure(figsize=(15,10))\n",
        "sns.countplot(data=df,y='occupation',hue='income')"
      ],
      "execution_count": 147,
      "outputs": [
        {
          "output_type": "execute_result",
          "data": {
            "text/plain": [
              "<matplotlib.axes._subplots.AxesSubplot at 0x7fa729d60400>"
            ]
          },
          "metadata": {
            "tags": []
          },
          "execution_count": 147
        },
        {
          "output_type": "display_data",
          "data": {
            "image/png": "[encoded data removed]",
            "text/plain": [
              "<Figure size 1080x720 with 1 Axes>"
            ]
          },
          "metadata": {
            "tags": []
          }
        }
      ]
    },
    {
      "cell_type": "markdown",
      "metadata": {
        "id": "bG5qpoNjhM5b"
      },
      "source": [
        "**Distribuição da variável 'occupation'**"
      ]
    },
    {
      "cell_type": "code",
      "metadata": {
        "id": "c7TGjim4gTyB",
        "outputId": "8ff97158-7154-4cd7-cd2a-e17865dab423",
        "colab": {
          "base_uri": "https://localhost:8080/",
          "height": 0
        }
      },
      "source": [
        "df['occupation'].value_counts()"
      ],
      "execution_count": 148,
      "outputs": [
        {
          "output_type": "execute_result",
          "data": {
            "text/plain": [
              "Prof-specialty       4140\n",
              "Craft-repair         4099\n",
              "Exec-managerial      4066\n",
              "Adm-clerical         3770\n",
              "Sales                3650\n",
              "Other-service        3295\n",
              "Machine-op-inspct    2002\n",
              "Transport-moving     1597\n",
              "Handlers-cleaners    1370\n",
              "Farming-fishing       994\n",
              "Tech-support          928\n",
              "Protective-serv       649\n",
              "Priv-house-serv       149\n",
              "Armed-Forces            9\n",
              "Name: occupation, dtype: int64"
            ]
          },
          "metadata": {
            "tags": []
          },
          "execution_count": 148
        }
      ]
    },
    {
      "cell_type": "markdown",
      "metadata": {
        "id": "g7mhy77Dhl4u"
      },
      "source": [
        "**Correlação entre variáveis 'sex' e 'income'**\n",
        "\n",
        "Podemos perceber com o gráfico de barras abaixo que o Dataset tem uma maior numeros de cadastro de homens que de mulheres. Numéricamente **21790 Homens e 10771 Mulheres** . Contudo podemos tirar uma informação estatística muito interessante veja bem. \n",
        "\n",
        "A proporção de mulheres que recebem salários anuais acima de 50 k representam 11% do total do mesmo sexo. Enquanto o Homem tem taxa resultante de 30%."
      ]
    },
    {
      "cell_type": "code",
      "metadata": {
        "id": "rmXUbCP9hpFP",
        "outputId": "4024e6c1-54da-4c47-b05f-7069489fd94c",
        "colab": {
          "base_uri": "https://localhost:8080/",
          "height": 0
        }
      },
      "source": [
        "plt.figure(figsize=(8,6))\n",
        "sns.countplot(x='sex',data=df,hue='income');"
      ],
      "execution_count": 149,
      "outputs": [
        {
          "output_type": "display_data",
          "data": {
            "image/png": "[encoded data removed]",
            "text/plain": [
              "<Figure size 576x432 with 1 Axes>"
            ]
          },
          "metadata": {
            "tags": []
          }
        }
      ]
    },
    {
      "cell_type": "markdown",
      "metadata": {
        "id": "kMO5gzKciNJ2"
      },
      "source": [
        "**Correlação entre a variavel 'Race' e 'Income'**\n",
        "\n",
        "Como, infelizmente não poderia ser diferente, a maioria empregada é da cor branca e também são eles, de longe, que ganham os maiores salários.\n",
        "\n",
        "\n",
        "\n"
      ]
    },
    {
      "cell_type": "code",
      "metadata": {
        "id": "nisUfO-Gh0BI",
        "outputId": "cac06a94-5293-4890-af85-bcafca9c3740",
        "colab": {
          "base_uri": "https://localhost:8080/",
          "height": 0
        }
      },
      "source": [
        "plt.figure(figsize=(8,6))\n",
        "sns.countplot(y= 'race',hue = 'income',data= df);"
      ],
      "execution_count": 150,
      "outputs": [
        {
          "output_type": "display_data",
          "data": {
            "image/png": "[encoded data removed]",
            "text/plain": [
              "<Figure size 576x432 with 1 Axes>"
            ]
          },
          "metadata": {
            "tags": []
          }
        }
      ]
    },
    {
      "cell_type": "markdown",
      "metadata": {
        "id": "8DZlyziqj0Qy"
      },
      "source": [
        "**Verificando a idade mínima e máxima do dataset**\n",
        "\n"
      ]
    },
    {
      "cell_type": "code",
      "metadata": {
        "id": "O59pP3gQjq58",
        "outputId": "f041934e-653c-4a8a-92ea-07aed85a7df6",
        "colab": {
          "base_uri": "https://localhost:8080/",
          "height": 0
        }
      },
      "source": [
        "print(f\"A idade minima é:{df.age.min()} Anos\")\n",
        "print(f\"A idade máxima é:{df.age.max()} Anos\")"
      ],
      "execution_count": 151,
      "outputs": [
        {
          "output_type": "stream",
          "text": [
            "A idade minima é:17 Anos\n",
            "A idade máxima é:90 Anos\n"
          ],
          "name": "stdout"
        }
      ]
    },
    {
      "cell_type": "markdown",
      "metadata": {
        "id": "KF5r7pfAnlSX"
      },
      "source": [
        "**Aplicar discretização**\n",
        "\n",
        "Vamos agrupar as idades em 3 categorias:\n",
        "\n",
        "- 0-25 anos (jovens)\n",
        "- 25-50 anos (adultos)\n",
        "- 50-100 anos (idosos)\n",
        "\n",
        "Tal qual foi feito com a variável 'hours-per-week'\n"
      ]
    },
    {
      "cell_type": "code",
      "metadata": {
        "id": "EpX__zdDnPAW"
      },
      "source": [
        "df['Age'] = pd.cut(df['age'],[0,25,50,100],labels=['child','Adult','Old'])"
      ],
      "execution_count": 152,
      "outputs": []
    },
    {
      "cell_type": "code",
      "metadata": {
        "id": "Eakyo4DpoBFB",
        "outputId": "4bbcd9e2-2398-4c2f-f3c9-bc6ae48387a9",
        "colab": {
          "base_uri": "https://localhost:8080/",
          "height": 0
        }
      },
      "source": [
        "## Visualização\n",
        "\n",
        "plt.figure(figsize=(8,6))\n",
        "sns.countplot(hue='income',x='Age',data=df);"
      ],
      "execution_count": 153,
      "outputs": [
        {
          "output_type": "display_data",
          "data": {
            "image/png": "[encoded data removed]",
            "text/plain": [
              "<Figure size 576x432 with 1 Axes>"
            ]
          },
          "metadata": {
            "tags": []
          }
        }
      ]
    },
    {
      "cell_type": "markdown",
      "metadata": {
        "id": "YXHc-LZYAVyJ"
      },
      "source": [
        "## 3. Substituindo os Valores Faltantes"
      ]
    },
    {
      "cell_type": "markdown",
      "metadata": {
        "id": "RfiWfZ1SoPCq"
      },
      "source": [
        "**Verificando a Quantidade de valores nulos no datase**"
      ]
    },
    {
      "cell_type": "code",
      "metadata": {
        "id": "us23lkGaocPI",
        "outputId": "6de5b0c0-3e40-4e74-8a34-220e31776ee3",
        "colab": {
          "base_uri": "https://localhost:8080/",
          "height": 133
        }
      },
      "source": [
        "# Criando Total valores nulos\n",
        "total = df.isnull().sum().sort_values(ascending = False)\n",
        "# Criando porcentagem.\n",
        "porcent  = df.isnull().sum().sort_values(ascending = False) * 100 / df.shape[0] \n",
        "# Criando dataframe. \n",
        "missing_data = pd.concat([total,porcent],axis=1,keys=['total','percent'])\n",
        "# visualizando somente os com percentual diferente de zero\n",
        "missing_data[missing_data['percent']!=0]\n"
      ],
      "execution_count": 154,
      "outputs": [
        {
          "output_type": "execute_result",
          "data": {
            "text/html": [
              "<div>\n",
              "<style scoped>\n",
              "    .dataframe tbody tr th:only-of-type {\n",
              "        vertical-align: middle;\n",
              "    }\n",
              "\n",
              "    .dataframe tbody tr th {\n",
              "        vertical-align: top;\n",
              "    }\n",
              "\n",
              "    .dataframe thead th {\n",
              "        text-align: right;\n",
              "    }\n",
              "</style>\n",
              "<table border=\"1\" class=\"dataframe\">\n",
              "  <thead>\n",
              "    <tr style=\"text-align: right;\">\n",
              "      <th></th>\n",
              "      <th>total</th>\n",
              "      <th>percent</th>\n",
              "    </tr>\n",
              "  </thead>\n",
              "  <tbody>\n",
              "    <tr>\n",
              "      <th>occupation</th>\n",
              "      <td>1843</td>\n",
              "      <td>5.660146</td>\n",
              "    </tr>\n",
              "    <tr>\n",
              "      <th>workclass</th>\n",
              "      <td>1836</td>\n",
              "      <td>5.638647</td>\n",
              "    </tr>\n",
              "    <tr>\n",
              "      <th>native.country</th>\n",
              "      <td>583</td>\n",
              "      <td>1.790486</td>\n",
              "    </tr>\n",
              "  </tbody>\n",
              "</table>\n",
              "</div>"
            ],
            "text/plain": [
              "                total   percent\n",
              "occupation       1843  5.660146\n",
              "workclass        1836  5.638647\n",
              "native.country    583  1.790486"
            ]
          },
          "metadata": {
            "tags": []
          },
          "execution_count": 154
        }
      ]
    },
    {
      "cell_type": "markdown",
      "metadata": {
        "id": "vzcDaoicr9HL"
      },
      "source": [
        "**Preenchendo os valores nulos da coluna 'workclass'**\n",
        "\n"
      ]
    },
    {
      "cell_type": "code",
      "metadata": {
        "id": "SdwkB05krMWn"
      },
      "source": [
        "top = 'Private'\n",
        "df['workclass'] = df.workclass.fillna('top')"
      ],
      "execution_count": 155,
      "outputs": []
    },
    {
      "cell_type": "markdown",
      "metadata": {
        "id": "21x5-xszBLCg"
      },
      "source": [
        "**Preenchendo os valores nulos da coluna 'occupation'**"
      ]
    },
    {
      "cell_type": "code",
      "metadata": {
        "id": "E4RVfuss_OGA",
        "outputId": "27295df0-a243-4ab7-d5d3-4e40c7e6c087",
        "colab": {
          "base_uri": "https://localhost:8080/",
          "height": 261
        }
      },
      "source": [
        "top = 'Prof-specialty'\n",
        "df['occupation'] = df['occupation'].fillna(top)\n",
        "df.occupation.value_counts()"
      ],
      "execution_count": 156,
      "outputs": [
        {
          "output_type": "execute_result",
          "data": {
            "text/plain": [
              "Prof-specialty       5983\n",
              "Craft-repair         4099\n",
              "Exec-managerial      4066\n",
              "Adm-clerical         3770\n",
              "Sales                3650\n",
              "Other-service        3295\n",
              "Machine-op-inspct    2002\n",
              "Transport-moving     1597\n",
              "Handlers-cleaners    1370\n",
              "Farming-fishing       994\n",
              "Tech-support          928\n",
              "Protective-serv       649\n",
              "Priv-house-serv       149\n",
              "Armed-Forces            9\n",
              "Name: occupation, dtype: int64"
            ]
          },
          "metadata": {
            "tags": []
          },
          "execution_count": 156
        }
      ]
    },
    {
      "cell_type": "markdown",
      "metadata": {
        "id": "1F1x3RrEEfMB"
      },
      "source": [
        "**Preenchendo os valores nulos da coluna 'native-country'**"
      ]
    },
    {
      "cell_type": "code",
      "metadata": {
        "id": "dUOt1Hh7BZAg"
      },
      "source": [
        "top = 'United-states'\n",
        "df['native.country'] = df['native.country'].fillna(top)"
      ],
      "execution_count": 157,
      "outputs": []
    },
    {
      "cell_type": "markdown",
      "metadata": {
        "id": "E7dlgcTSGJhR"
      },
      "source": [
        "**Verificando se ainda existem valores nulos no Dataset**"
      ]
    },
    {
      "cell_type": "code",
      "metadata": {
        "id": "NnpcfPSAEoma",
        "outputId": "495a3d6e-76e6-407c-d1eb-6cc5720aa1a2",
        "colab": {
          "base_uri": "https://localhost:8080/",
          "height": 33
        }
      },
      "source": [
        "if df.isnull().sum().sort_values(ascending= False).any()!= 0:\n",
        "  print(f'Existem valores nulos {True}')\n",
        "else:\n",
        "  print(f'Existem valores nulos {False}')  \n",
        "   \n",
        "\n"
      ],
      "execution_count": 158,
      "outputs": [
        {
          "output_type": "stream",
          "text": [
            "Existem valores nulos False\n"
          ],
          "name": "stdout"
        }
      ]
    },
    {
      "cell_type": "markdown",
      "metadata": {
        "id": "GUkQEWr4Z1Dq"
      },
      "source": [
        "**Criando uma nova coluna com a renda final**"
      ]
    },
    {
      "cell_type": "code",
      "metadata": {
        "id": "kR6BYeliZsfM"
      },
      "source": [
        "df['capital_last'] = df['capital.gain'] - df['capital.loss']"
      ],
      "execution_count": 159,
      "outputs": []
    },
    {
      "cell_type": "markdown",
      "metadata": {
        "id": "8YYoBXR4aRBC"
      },
      "source": [
        "**Criando função para remover as features sempre que necessário**"
      ]
    },
    {
      "cell_type": "code",
      "metadata": {
        "id": "VUkOuVrDaT5U"
      },
      "source": [
        "def remove_feaatures(lista_features):\n",
        "  for i in lista_features:\n",
        "    df.drop(i,axis=1,inplace=True)\n"
      ],
      "execution_count": 160,
      "outputs": []
    },
    {
      "cell_type": "markdown",
      "metadata": {
        "id": "wyVYYfwCdlW7"
      },
      "source": [
        "**Removendo as primeiras features**\n",
        "\n",
        "A coluna 'educational-num' está preenchida com o código referente a cada nível de escolaridade, dessa maneira podemos excluir a coluna 'education'.\n",
        "\n",
        "As colunas 'capital-gain' e 'capital-loss' estão representadas pela nova coluna que criamos anteriormente."
      ]
    },
    {
      "cell_type": "code",
      "metadata": {
        "id": "WJlcRSJAjKYg"
      },
      "source": [
        "remove_feaatures(['capital.gain','capital.loss','fnlwgt']) "
      ],
      "execution_count": 161,
      "outputs": []
    },
    {
      "cell_type": "markdown",
      "metadata": {
        "id": "GumjOBKatwwJ"
      },
      "source": [
        "**Transformando as variáveis categóricas em numéricas**"
      ]
    },
    {
      "cell_type": "code",
      "metadata": {
        "id": "7gzYgk-DrSEr"
      },
      "source": [
        "# selecionando apenas as colunas categóricas\n",
        "cols = df[df.select_dtypes(['object']).columns]\n",
        "# iterando sobre as colunas para transformar em numéricas com label encoder\n",
        "for c in cols:\n",
        "    encoding = LabelEncoder()\n",
        "# transformando\n",
        "    encoding.fit(list(df[c].values))\n",
        "    df[c] = encoding.transform(list(df[c].values))\n",
        "# aplicando o get_dummies\n",
        "df = pd.get_dummies(df)\n",
        "\n",
        "\n"
      ],
      "execution_count": 162,
      "outputs": []
    },
    {
      "cell_type": "markdown",
      "metadata": {
        "id": "XoHhk99FXcvy"
      },
      "source": [
        "Caso queira intender o método get_dummies, leia este [artigo](https://medium.com/@albertum/preprocessing-onehotencoder-vs-pandas-get-dummies-3de1f3d77dcc) "
      ]
    },
    {
      "cell_type": "code",
      "metadata": {
        "id": "Li6aC3nRtgsi",
        "outputId": "6119e96f-b779-4cb0-bcd7-a3d5012840b6",
        "colab": {
          "base_uri": "https://localhost:8080/",
          "height": 211
        }
      },
      "source": [
        "df.head()"
      ],
      "execution_count": 163,
      "outputs": [
        {
          "output_type": "execute_result",
          "data": {
            "text/html": [
              "<div>\n",
              "<style scoped>\n",
              "    .dataframe tbody tr th:only-of-type {\n",
              "        vertical-align: middle;\n",
              "    }\n",
              "\n",
              "    .dataframe tbody tr th {\n",
              "        vertical-align: top;\n",
              "    }\n",
              "\n",
              "    .dataframe thead th {\n",
              "        text-align: right;\n",
              "    }\n",
              "</style>\n",
              "<table border=\"1\" class=\"dataframe\">\n",
              "  <thead>\n",
              "    <tr style=\"text-align: right;\">\n",
              "      <th></th>\n",
              "      <th>age</th>\n",
              "      <th>workclass</th>\n",
              "      <th>education</th>\n",
              "      <th>education.num</th>\n",
              "      <th>marital.status</th>\n",
              "      <th>occupation</th>\n",
              "      <th>relationship</th>\n",
              "      <th>race</th>\n",
              "      <th>sex</th>\n",
              "      <th>native.country</th>\n",
              "      <th>income</th>\n",
              "      <th>capital_last</th>\n",
              "      <th>hours.per.week_Short</th>\n",
              "      <th>hours.per.week_normal</th>\n",
              "      <th>hours.per.week_extra</th>\n",
              "      <th>Age_child</th>\n",
              "      <th>Age_Adult</th>\n",
              "      <th>Age_Old</th>\n",
              "    </tr>\n",
              "  </thead>\n",
              "  <tbody>\n",
              "    <tr>\n",
              "      <th>0</th>\n",
              "      <td>90</td>\n",
              "      <td>8</td>\n",
              "      <td>11</td>\n",
              "      <td>9</td>\n",
              "      <td>6</td>\n",
              "      <td>9</td>\n",
              "      <td>1</td>\n",
              "      <td>4</td>\n",
              "      <td>0</td>\n",
              "      <td>38</td>\n",
              "      <td>0</td>\n",
              "      <td>-4356</td>\n",
              "      <td>0</td>\n",
              "      <td>1</td>\n",
              "      <td>0</td>\n",
              "      <td>0</td>\n",
              "      <td>0</td>\n",
              "      <td>1</td>\n",
              "    </tr>\n",
              "    <tr>\n",
              "      <th>1</th>\n",
              "      <td>82</td>\n",
              "      <td>3</td>\n",
              "      <td>11</td>\n",
              "      <td>9</td>\n",
              "      <td>6</td>\n",
              "      <td>3</td>\n",
              "      <td>1</td>\n",
              "      <td>4</td>\n",
              "      <td>0</td>\n",
              "      <td>38</td>\n",
              "      <td>0</td>\n",
              "      <td>-4356</td>\n",
              "      <td>1</td>\n",
              "      <td>0</td>\n",
              "      <td>0</td>\n",
              "      <td>0</td>\n",
              "      <td>0</td>\n",
              "      <td>1</td>\n",
              "    </tr>\n",
              "    <tr>\n",
              "      <th>2</th>\n",
              "      <td>66</td>\n",
              "      <td>8</td>\n",
              "      <td>15</td>\n",
              "      <td>10</td>\n",
              "      <td>6</td>\n",
              "      <td>9</td>\n",
              "      <td>4</td>\n",
              "      <td>2</td>\n",
              "      <td>0</td>\n",
              "      <td>38</td>\n",
              "      <td>0</td>\n",
              "      <td>-4356</td>\n",
              "      <td>0</td>\n",
              "      <td>1</td>\n",
              "      <td>0</td>\n",
              "      <td>0</td>\n",
              "      <td>0</td>\n",
              "      <td>1</td>\n",
              "    </tr>\n",
              "    <tr>\n",
              "      <th>3</th>\n",
              "      <td>54</td>\n",
              "      <td>3</td>\n",
              "      <td>5</td>\n",
              "      <td>4</td>\n",
              "      <td>0</td>\n",
              "      <td>6</td>\n",
              "      <td>4</td>\n",
              "      <td>4</td>\n",
              "      <td>0</td>\n",
              "      <td>38</td>\n",
              "      <td>0</td>\n",
              "      <td>-3900</td>\n",
              "      <td>0</td>\n",
              "      <td>1</td>\n",
              "      <td>0</td>\n",
              "      <td>0</td>\n",
              "      <td>0</td>\n",
              "      <td>1</td>\n",
              "    </tr>\n",
              "    <tr>\n",
              "      <th>4</th>\n",
              "      <td>41</td>\n",
              "      <td>3</td>\n",
              "      <td>15</td>\n",
              "      <td>10</td>\n",
              "      <td>5</td>\n",
              "      <td>9</td>\n",
              "      <td>3</td>\n",
              "      <td>4</td>\n",
              "      <td>0</td>\n",
              "      <td>38</td>\n",
              "      <td>0</td>\n",
              "      <td>-3900</td>\n",
              "      <td>0</td>\n",
              "      <td>1</td>\n",
              "      <td>0</td>\n",
              "      <td>0</td>\n",
              "      <td>1</td>\n",
              "      <td>0</td>\n",
              "    </tr>\n",
              "  </tbody>\n",
              "</table>\n",
              "</div>"
            ],
            "text/plain": [
              "   age  workclass  education  ...  Age_child  Age_Adult  Age_Old\n",
              "0   90          8         11  ...          0          0        1\n",
              "1   82          3         11  ...          0          0        1\n",
              "2   66          8         15  ...          0          0        1\n",
              "3   54          3          5  ...          0          0        1\n",
              "4   41          3         15  ...          0          1        0\n",
              "\n",
              "[5 rows x 18 columns]"
            ]
          },
          "metadata": {
            "tags": []
          },
          "execution_count": 163
        }
      ]
    },
    {
      "cell_type": "markdown",
      "metadata": {
        "id": "hZJ7mZ-ooplv"
      },
      "source": [
        "**Checando as correlações**\n",
        "\n",
        "Isso possibilita a análise simultânea da associação entre variáveis.\n",
        "\n",
        "Os números 1.00 são das variáveis com elas mesmas, logo 1.00 é a mais alta correlação positiva, ao passo que 0 não há correlação e -1 é a correlação negativa, ou seja, enquanto uma variável cresce a outra diminui na mesma proporção, enquanto uma desce, a outra sobe na mesma proporção.\n",
        "\n",
        "A partir de 0.7, 0.8 pode ser considerada como alta correlação."
      ]
    },
    {
      "cell_type": "code",
      "metadata": {
        "id": "jLkWYuovC_3F",
        "outputId": "eb5a4e38-4536-44e0-bf57-90e428324df0",
        "colab": {
          "base_uri": "https://localhost:8080/",
          "height": 662
        }
      },
      "source": [
        "corr = df.corr()\n",
        "sns.set(rc={'axes.facecolor':'white', 'figure.facecolor':'white'})\n",
        "plt.subplots(figsize=(12, 9))\n",
        "sns.heatmap(corr, vmax=.8,annot_kws={'size': 10}, annot=True, fmt='.2f');"
      ],
      "execution_count": 164,
      "outputs": [
        {
          "output_type": "display_data",
          "data": {
            "image/png": "[encoded data removed]",
            "text/plain": [
              "<Figure size 864x648 with 2 Axes>"
            ]
          },
          "metadata": {
            "tags": []
          }
        }
      ]
    },
    {
      "cell_type": "markdown",
      "metadata": {
        "id": "kpOgFs9brF-1"
      },
      "source": [
        "**Vamos verificar as correlações entre a variável 'income' e as demais variáveis.**"
      ]
    },
    {
      "cell_type": "code",
      "metadata": {
        "id": "FHTL8J6couMc",
        "outputId": "ca9fd81e-a29f-4f92-ceb1-e707dbad4e68",
        "colab": {
          "base_uri": "https://localhost:8080/",
          "height": 310
        }
      },
      "source": [
        "corr_list = corr['income'].sort_values(axis=0,ascending=False).iloc[1:]\n",
        "corr_list"
      ],
      "execution_count": 165,
      "outputs": [
        {
          "output_type": "execute_result",
          "data": {
            "text/plain": [
              "education.num            0.335154\n",
              "hours.per.week_extra     0.244120\n",
              "age                      0.234037\n",
              "sex                      0.215980\n",
              "capital_last             0.214428\n",
              "Age_Adult                0.130379\n",
              "Age_Old                  0.097687\n",
              "education                0.079317\n",
              "race                     0.071846\n",
              "occupation               0.034625\n",
              "native.country           0.022990\n",
              "workclass               -0.055124\n",
              "hours.per.week_normal   -0.092129\n",
              "hours.per.week_Short    -0.177816\n",
              "marital.status          -0.199307\n",
              "relationship            -0.250918\n",
              "Age_child               -0.258270\n",
              "Name: income, dtype: float64"
            ]
          },
          "metadata": {
            "tags": []
          },
          "execution_count": 165
        }
      ]
    },
    {
      "cell_type": "markdown",
      "metadata": {
        "id": "2Wv7KaGDrPhF"
      },
      "source": [
        "É possivel notar com os dados correlacionados acima que o modelo conseguiu identificar que os salários/`income` possui correlação direta com `Education.num`, `hours.per.week_extra`,`age,sex`,`capital_last`. Ou seja dado um valor de salário é possivel supor o grau de formação, horas extras por semana,sexo e receita de uma pessoa nos EUA."
      ]
    },
    {
      "cell_type": "markdown",
      "metadata": {
        "id": "xNmWKg0vjx9b"
      },
      "source": [
        "## 4. Selecionando Features Importantes"
      ]
    },
    {
      "cell_type": "markdown",
      "metadata": {
        "id": "43fwSRptkAuS"
      },
      "source": [
        "**Separando a classe dos Dados**"
      ]
    },
    {
      "cell_type": "code",
      "metadata": {
        "id": "3SqdWn3Nj20-"
      },
      "source": [
        "previsores = df.drop('income',axis=1)\n",
        "classe = df['income']"
      ],
      "execution_count": 166,
      "outputs": []
    },
    {
      "cell_type": "markdown",
      "metadata": {
        "id": "3NHb2_29mXis"
      },
      "source": [
        "**Criando classificador para visualizar as features mais importantes para o modelo**\n",
        "\n",
        "Como falado [aqui](https://bit.ly/2Sg9LM7) os modelos de *Random Forest* e *Decision Tree* têm a vantagem de nos fornecer de uma forma clara quais features realmente importam para o modelo. \n",
        "\n",
        "Deste modo, podemos excluir do nosso modelo aquelas variáveis que não têm importância e que, no fim, acabam retirando um pouco da precisão do modelo.\n",
        "\n",
        "Ainda que o algoritmo final não seja nenhum deles, extrair essas regras nos darão vantagem para qualquer modelo de Machine Learning."
      ]
    },
    {
      "cell_type": "code",
      "metadata": {
        "id": "NFeXcUU8kC0v",
        "outputId": "5ac8ae62-204e-4731-d5f8-9bad8c927a76",
        "colab": {
          "base_uri": "https://localhost:8080/",
          "height": 147
        }
      },
      "source": [
        "clf=RandomForestClassifier(n_estimators=100, random_state=12)\n",
        "clf.fit(previsores, classe)"
      ],
      "execution_count": 167,
      "outputs": [
        {
          "output_type": "execute_result",
          "data": {
            "text/plain": [
              "RandomForestClassifier(bootstrap=True, ccp_alpha=0.0, class_weight=None,\n",
              "                       criterion='gini', max_depth=None, max_features='auto',\n",
              "                       max_leaf_nodes=None, max_samples=None,\n",
              "                       min_impurity_decrease=0.0, min_impurity_split=None,\n",
              "                       min_samples_leaf=1, min_samples_split=2,\n",
              "                       min_weight_fraction_leaf=0.0, n_estimators=100,\n",
              "                       n_jobs=None, oob_score=False, random_state=12, verbose=0,\n",
              "                       warm_start=False)"
            ]
          },
          "metadata": {
            "tags": []
          },
          "execution_count": 167
        }
      ]
    },
    {
      "cell_type": "markdown",
      "metadata": {
        "id": "v1VoKv57pNKh"
      },
      "source": [
        "**Visualizando as features mais importantes**"
      ]
    },
    {
      "cell_type": "code",
      "metadata": {
        "id": "REKzC3nApVyO",
        "outputId": "bbfe7be3-bef4-415b-c8e9-4cb71b4552b3",
        "colab": {
          "base_uri": "https://localhost:8080/",
          "height": 310
        }
      },
      "source": [
        "feature_imp = pd.Series(clf.feature_importances_,index=previsores.columns).sort_values(ascending=False)\n",
        "feature_imp"
      ],
      "execution_count": 168,
      "outputs": [
        {
          "output_type": "execute_result",
          "data": {
            "text/plain": [
              "age                      0.213000\n",
              "capital_last             0.176726\n",
              "relationship             0.110589\n",
              "education.num            0.105477\n",
              "occupation               0.099476\n",
              "marital.status           0.077899\n",
              "workclass                0.061279\n",
              "education                0.036349\n",
              "native.country           0.025848\n",
              "race                     0.020464\n",
              "hours.per.week_extra     0.016619\n",
              "sex                      0.015285\n",
              "Age_child                0.012643\n",
              "hours.per.week_Short     0.010445\n",
              "hours.per.week_normal    0.007599\n",
              "Age_Adult                0.005343\n",
              "Age_Old                  0.004961\n",
              "dtype: float64"
            ]
          },
          "metadata": {
            "tags": []
          },
          "execution_count": 168
        }
      ]
    },
    {
      "cell_type": "markdown",
      "metadata": {
        "id": "hU8enFzhayZV"
      },
      "source": [
        "Após a aplicação do Modelo de Random Florest. Conclui-se que as Features mais importantes são : `age`,`capital_last` e `relationship`.  "
      ]
    },
    {
      "cell_type": "markdown",
      "metadata": {
        "id": "mKIzr4RgzTtw"
      },
      "source": [
        "**Visualizando graficamente as features mais importantes**"
      ]
    },
    {
      "cell_type": "code",
      "metadata": {
        "id": "j8UjD4vQpX8m",
        "outputId": "93a38399-882b-4beb-bd11-efba8f8e369b",
        "colab": {
          "base_uri": "https://localhost:8080/",
          "height": 410
        }
      },
      "source": [
        "plt.figure(figsize=(8,6))\n",
        "sns.barplot(x=feature_imp, y=feature_imp.index)\n",
        "plt.xlabel('Feature Importance Score')\n",
        "plt.ylabel('Features')\n",
        "plt.title(\"Visualizing Important Features\")\n",
        "plt.show()"
      ],
      "execution_count": 169,
      "outputs": [
        {
          "output_type": "display_data",
          "data": {
            "image/png": "[encoded data removed]",
            "text/plain": [
              "<Figure size 576x432 with 1 Axes>"
            ]
          },
          "metadata": {
            "tags": []
          }
        }
      ]
    },
    {
      "cell_type": "markdown",
      "metadata": {
        "id": "h6n-mihfzeb8"
      },
      "source": [
        "**Selecionando as features de maior importância**\n",
        "\n",
        "Aquelas acima de 3% de importância"
      ]
    },
    {
      "cell_type": "code",
      "metadata": {
        "id": "r-Dm-XLPzgMc",
        "outputId": "0c55aaff-4dea-4202-a8a3-562189c6f494",
        "colab": {
          "base_uri": "https://localhost:8080/",
          "height": 147
        }
      },
      "source": [
        "features_selected = []\n",
        "for feature,importance in feature_imp.iteritems():\n",
        "# iteritems retorna um iterador que nos permiter iterar sobre a chave ou valor\n",
        "    if importance > 0.03:\n",
        "        print(f'{feature}: {round(importance * 100)}%')\n",
        "        features_selected.append(feature)"
      ],
      "execution_count": 170,
      "outputs": [
        {
          "output_type": "stream",
          "text": [
            "age: 21%\n",
            "capital_last: 18%\n",
            "relationship: 11%\n",
            "education.num: 11%\n",
            "occupation: 10%\n",
            "marital.status: 8%\n",
            "workclass: 6%\n",
            "education: 4%\n"
          ],
          "name": "stdout"
        }
      ]
    },
    {
      "cell_type": "markdown",
      "metadata": {
        "id": "fEf9yFGZz9qA"
      },
      "source": [
        "##5. Treinando Modelos de Machine Learning"
      ]
    },
    {
      "cell_type": "markdown",
      "metadata": {
        "id": "VzS8yOA80EDq"
      },
      "source": [
        "Treinando os modelos utilizando apenas as features selecionadas"
      ]
    },
    {
      "cell_type": "code",
      "metadata": {
        "id": "d3fWLoOTzgwT"
      },
      "source": [
        "previsores = df[features_selected]\n",
        "classe = df['income']"
      ],
      "execution_count": 171,
      "outputs": []
    },
    {
      "cell_type": "markdown",
      "metadata": {
        "id": "U7VBkbh70q-D"
      },
      "source": [
        "**Criando modelo de Machine Learning a partir de cada algoritmo**\n",
        "\n",
        "Os dados estão em diferentes escalas e isso pode prejudicar a performance de alguns algoritmos, logo deve-se aplicar a Padronização ao conjunto de dados (colocando-os na mesma escala). Nesta técnica, os dados serão transformados de modo que estejam com uma distribuição normal, com média igual a zero e desvio padrão igual a 1.\n",
        "\n",
        "Observação:\n",
        "\n",
        "O modelo SVM não foi utilizado por não funcionar bem grandes conjuntos de dados, uma vez que o tempo de treinamento necessário é maior."
      ]
    },
    {
      "cell_type": "code",
      "metadata": {
        "id": "YZq3uX6L0G1_",
        "outputId": "26c19196-c9c4-499b-9515-ee93171395bd",
        "colab": {
          "base_uri": "https://localhost:8080/",
          "height": 98
        }
      },
      "source": [
        "pipelines = []\n",
        "pipelines.append(('Scaled-LR', Pipeline([('Scaler', StandardScaler()),('LR', LogisticRegression())]))),\n",
        "pipelines.append(('Scaled-KNN', Pipeline([('Scaler', StandardScaler()),('KNN', KNeighborsClassifier())]))),\n",
        "pipelines.append(('Scaled-NB', Pipeline([('Scaler', StandardScaler()),('NB', GaussianNB())]))),\n",
        "pipelines.append(('Scaled-DT', Pipeline([('Scaler', StandardScaler()),('DT', DecisionTreeClassifier())]))),\n",
        "pipelines.append(('Scaled-RF', Pipeline([('Scaler', StandardScaler()),('RF', RandomForestClassifier())])))\n",
        "resultados = []\n",
        "nomes = []\n",
        "\n",
        "# Percorrendo cada um dos modelos e fazedo o cross validation\n",
        "for nome, modelo in pipelines:\n",
        "    kfold = StratifiedKFold(n_splits=10, shuffle = True, random_state=12)\n",
        "    cross_val_result = model_selection.cross_val_score(modelo, \n",
        "                                                     previsores, \n",
        "                                                     classe, \n",
        "                                                     cv = kfold, \n",
        "                                                     scoring = 'accuracy')\n",
        "    resultados.append(cross_val_result)\n",
        "    nomes.append(nome)\n",
        "# retornando a média das validações, bem como seu desvio padrão\n",
        "    texto = \"%s: %f (%f)\" % (nome, cross_val_result.mean(), cross_val_result.std())\n",
        "    print(texto)"
      ],
      "execution_count": 172,
      "outputs": [
        {
          "output_type": "stream",
          "text": [
            "Scaled-LR: 0.814932 (0.003928)\n",
            "Scaled-KNN: 0.831670 (0.004521)\n",
            "Scaled-NB: 0.804951 (0.006565)\n",
            "Scaled-DT: 0.826142 (0.006022)\n",
            "Scaled-RF: 0.841344 (0.005910)\n"
          ],
          "name": "stdout"
        }
      ]
    },
    {
      "cell_type": "code",
      "metadata": {
        "id": "ICg68hpE4p7z",
        "outputId": "9e054b8b-fb6c-446b-c36e-a3228680a269",
        "colab": {
          "base_uri": "https://localhost:8080/",
          "height": 862
        }
      },
      "source": [
        "pipelines"
      ],
      "execution_count": 173,
      "outputs": [
        {
          "output_type": "execute_result",
          "data": {
            "text/plain": [
              "[('Scaled-LR', Pipeline(memory=None,\n",
              "           steps=[('Scaler',\n",
              "                   StandardScaler(copy=True, with_mean=True, with_std=True)),\n",
              "                  ('LR',\n",
              "                   LogisticRegression(C=1.0, class_weight=None, dual=False,\n",
              "                                      fit_intercept=True, intercept_scaling=1,\n",
              "                                      l1_ratio=None, max_iter=100,\n",
              "                                      multi_class='auto', n_jobs=None,\n",
              "                                      penalty='l2', random_state=None,\n",
              "                                      solver='lbfgs', tol=0.0001, verbose=0,\n",
              "                                      warm_start=False))],\n",
              "           verbose=False)), ('Scaled-KNN', Pipeline(memory=None,\n",
              "           steps=[('Scaler',\n",
              "                   StandardScaler(copy=True, with_mean=True, with_std=True)),\n",
              "                  ('KNN',\n",
              "                   KNeighborsClassifier(algorithm='auto', leaf_size=30,\n",
              "                                        metric='minkowski', metric_params=None,\n",
              "                                        n_jobs=None, n_neighbors=5, p=2,\n",
              "                                        weights='uniform'))],\n",
              "           verbose=False)), ('Scaled-NB', Pipeline(memory=None,\n",
              "           steps=[('Scaler',\n",
              "                   StandardScaler(copy=True, with_mean=True, with_std=True)),\n",
              "                  ('NB', GaussianNB(priors=None, var_smoothing=1e-09))],\n",
              "           verbose=False)), ('Scaled-DT', Pipeline(memory=None,\n",
              "           steps=[('Scaler',\n",
              "                   StandardScaler(copy=True, with_mean=True, with_std=True)),\n",
              "                  ('DT',\n",
              "                   DecisionTreeClassifier(ccp_alpha=0.0, class_weight=None,\n",
              "                                          criterion='gini', max_depth=None,\n",
              "                                          max_features=None, max_leaf_nodes=None,\n",
              "                                          min_impurity_decrease=0.0,\n",
              "                                          min_impurity_split=None,\n",
              "                                          min_samples_leaf=1, min_samples_split=2,\n",
              "                                          min_weight_fraction_leaf=0.0,\n",
              "                                          presort='deprecated', random_state=None,\n",
              "                                          splitter='best'))],\n",
              "           verbose=False)), ('Scaled-RF', Pipeline(memory=None,\n",
              "           steps=[('Scaler',\n",
              "                   StandardScaler(copy=True, with_mean=True, with_std=True)),\n",
              "                  ('RF',\n",
              "                   RandomForestClassifier(bootstrap=True, ccp_alpha=0.0,\n",
              "                                          class_weight=None, criterion='gini',\n",
              "                                          max_depth=None, max_features='auto',\n",
              "                                          max_leaf_nodes=None, max_samples=None,\n",
              "                                          min_impurity_decrease=0.0,\n",
              "                                          min_impurity_split=None,\n",
              "                                          min_samples_leaf=1, min_samples_split=2,\n",
              "                                          min_weight_fraction_leaf=0.0,\n",
              "                                          n_estimators=100, n_jobs=None,\n",
              "                                          oob_score=False, random_state=None,\n",
              "                                          verbose=0, warm_start=False))],\n",
              "           verbose=False))]"
            ]
          },
          "metadata": {
            "tags": []
          },
          "execution_count": 173
        }
      ]
    },
    {
      "cell_type": "markdown",
      "metadata": {
        "id": "itCB6ecr4s7W"
      },
      "source": [
        "**Visualizando os melhores algoritmos via boxplot**\n",
        "\n",
        "De acordo com os resultados anteriores, o modelo de Random Forest apresentou o melhor valor de acurácia e conseguinte os melhores resultados.\n",
        "\n",
        "O gráfico de Caixas ou BoxPlot nos ajudará a visualizar isso melhor."
      ]
    },
    {
      "cell_type": "code",
      "metadata": {
        "id": "e31kJzbB4qkY",
        "outputId": "270e0797-71c1-4796-fda6-23a5cbc7b589",
        "colab": {
          "base_uri": "https://localhost:8080/",
          "height": 297
        }
      },
      "source": [
        "fig = plt.figure()\n",
        "fig.suptitle('Comparando os Algoritmos Padronizados')\n",
        "ax = fig.add_subplot(111)\n",
        "plt.boxplot(resultados)\n",
        "ax.set_xticklabels(nomes)\n",
        "plt.show()"
      ],
      "execution_count": 174,
      "outputs": [
        {
          "output_type": "display_data",
          "data": {
            "image/png": "[encoded data removed]",
            "text/plain": [
              "<Figure size 432x288 with 1 Axes>"
            ]
          },
          "metadata": {
            "tags": []
          }
        }
      ]
    },
    {
      "cell_type": "markdown",
      "metadata": {
        "id": "VrJv2HdaLhsE"
      },
      "source": [
        "##6. Fazendo Tuning do Modelo\n",
        "\n",
        "Embora o Random Forest tenha apresentado o menor erro após a padronização dos dados, pode-se ainda otimizá-lo com o ajuste dos seus parâmetros.\n",
        "\n"
      ]
    },
    {
      "cell_type": "code",
      "metadata": {
        "id": "hBQx2490IIQ1",
        "outputId": "804e693d-0d52-42aa-fe11-7223d2e8803a",
        "colab": {
          "base_uri": "https://localhost:8080/",
          "height": 228
        }
      },
      "source": [
        "# # Definindo a escala\n",
        "scaler = StandardScaler()\n",
        "previsores = scaler.fit_transform(previsores)\n",
        "\n",
        "# Possíveis valores de estimators\n",
        "val_estimators = [20, 50, 100, 150, 200]\n",
        "\n",
        "# Possíveis valores para o critério de divisão\n",
        "val_criterion = ['gini', 'entropy']\n",
        "\n",
        "# Definindo um dicionário que recebe as listas de parâmetros e valores\n",
        "parametros_grid = dict(n_estimators = val_estimators,\n",
        "                       criterion = val_criterion)\n",
        "                      \n",
        "                       \n",
        "# Criando o modelo\n",
        "modelo_random = RandomForestClassifier()\n",
        "\n",
        "# Definindo K\n",
        "kfold = StratifiedKFold(n_splits=10, shuffle = True, random_state=12)\n",
        "\n",
        "# Testando diferentes combinações com os parâmetros\n",
        "grid = RandomizedSearchCV(estimator = modelo_random, param_distributions = parametros_grid, cv = kfold, scoring = 'accuracy')\n",
        "grid.fit(previsores, classe)\n",
        "\n",
        "# Print do resultado\n",
        "print(\"Grid scores on development set:\")\n",
        "means = grid.cv_results_['mean_test_score'].round(5)\n",
        "stds = grid.cv_results_['std_test_score'].round(5)\n",
        "\n",
        "for mean, std, params in zip(means, stds, grid.cv_results_['params']):\n",
        "    print(f'mean:{mean},std:{std},params:{params}')\n",
        "print()\n",
        "print(f'Melhor parâmetro:{grid.best_params_}, Score:{grid.best_score_}')"
      ],
      "execution_count": 175,
      "outputs": [
        {
          "output_type": "stream",
          "text": [
            "Grid scores on development set:\n",
            "mean:0.84045,std:0.005,params:{'n_estimators': 20, 'criterion': 'gini'}\n",
            "mean:0.84058,std:0.00497,params:{'n_estimators': 50, 'criterion': 'gini'}\n",
            "mean:0.84174,std:0.00546,params:{'n_estimators': 100, 'criterion': 'gini'}\n",
            "mean:0.84085,std:0.00462,params:{'n_estimators': 150, 'criterion': 'gini'}\n",
            "mean:0.84174,std:0.00519,params:{'n_estimators': 200, 'criterion': 'gini'}\n",
            "mean:0.84058,std:0.0043,params:{'n_estimators': 20, 'criterion': 'entropy'}\n",
            "mean:0.84051,std:0.00432,params:{'n_estimators': 50, 'criterion': 'entropy'}\n",
            "mean:0.84227,std:0.00516,params:{'n_estimators': 100, 'criterion': 'entropy'}\n",
            "mean:0.84184,std:0.00515,params:{'n_estimators': 150, 'criterion': 'entropy'}\n",
            "mean:0.84104,std:0.00498,params:{'n_estimators': 200, 'criterion': 'entropy'}\n",
            "\n",
            "Melhor parâmetro:{'n_estimators': 100, 'criterion': 'entropy'}, Score:0.842265402282289\n"
          ],
          "name": "stdout"
        }
      ]
    },
    {
      "cell_type": "markdown",
      "metadata": {
        "id": "Y1pCEjofXAPO"
      },
      "source": [
        "##7. Preparando a Versão Final do Modelo"
      ]
    },
    {
      "cell_type": "code",
      "metadata": {
        "id": "rN5hP5ZxRq6U",
        "outputId": "c9866703-4fd5-4dbb-ddba-7877e167f4e2",
        "colab": {
          "base_uri": "https://localhost:8080/",
          "height": 245
        }
      },
      "source": [
        "scaler = StandardScaler()\n",
        "previsores = scaler.fit_transform(previsores)\n",
        "modelo_tree = RandomForestClassifier(criterion='entropy', max_depth=14, random_state=12)\n",
        "modelo_tree.fit(previsores,classe)\n",
        "result_tree = cross_val_predict(modelo_tree,previsores, classe, cv=10)\n",
        "\n",
        "print(f'Acurácia: {accuracy_score(classe,result_tree)}')\n",
        "print('\\n',confusion_matrix(classe,result_tree))\n",
        "print('\\n',classification_report(classe,result_tree))"
      ],
      "execution_count": 181,
      "outputs": [
        {
          "output_type": "stream",
          "text": [
            "Acurácia: 0.8067626915635269\n",
            "\n",
            " [[22570  2150]\n",
            " [ 4142  3699]]\n",
            "\n",
            "               precision    recall  f1-score   support\n",
            "\n",
            "           0       0.84      0.91      0.88     24720\n",
            "           1       0.63      0.47      0.54      7841\n",
            "\n",
            "    accuracy                           0.81     32561\n",
            "   macro avg       0.74      0.69      0.71     32561\n",
            "weighted avg       0.79      0.81      0.80     32561\n",
            "\n"
          ],
          "name": "stdout"
        }
      ]
    },
    {
      "cell_type": "markdown",
      "metadata": {
        "id": "chG1j-iHYfL3"
      },
      "source": [
        "##8. Persistindo o Modelo em Disco"
      ]
    },
    {
      "cell_type": "markdown",
      "metadata": {
        "id": "-CIuKgsyYkl6"
      },
      "source": [
        "**Persistindo com Pickle**"
      ]
    },
    {
      "cell_type": "code",
      "metadata": {
        "id": "_ZCjIBv2ZBEE",
        "outputId": "530558c9-e6d1-469d-a687-f4062acbcb54",
        "colab": {
          "base_uri": "https://localhost:8080/",
          "height": 115
        }
      },
      "source": [
        "#filename = 'model_final.sav'\n",
        "pickle.dump(modelo_tree, open('modelo.sav', 'wb'))\n",
        "pickle.load(open('modelo.sav', 'rb'))"
      ],
      "execution_count": 177,
      "outputs": [
        {
          "output_type": "execute_result",
          "data": {
            "text/plain": [
              "DecisionTreeClassifier(ccp_alpha=0.0, class_weight=None, criterion='entropy',\n",
              "                       max_depth=14, max_features=None, max_leaf_nodes=None,\n",
              "                       min_impurity_decrease=0.0, min_impurity_split=None,\n",
              "                       min_samples_leaf=1, min_samples_split=2,\n",
              "                       min_weight_fraction_leaf=0.0, presort='deprecated',\n",
              "                       random_state=12, splitter='best')"
            ]
          },
          "metadata": {
            "tags": []
          },
          "execution_count": 177
        }
      ]
    },
    {
      "cell_type": "markdown",
      "metadata": {
        "id": "MJt-JPAnZNPe"
      },
      "source": [
        "**Persistindo com Joblib**"
      ]
    },
    {
      "cell_type": "code",
      "metadata": {
        "id": "s7H8zVM3ZKOc",
        "outputId": "23bf3ea7-685e-4e80-adcf-eef1ebaf69d2",
        "colab": {
          "base_uri": "https://localhost:8080/",
          "height": 33
        }
      },
      "source": [
        "dump(modelo_tree,'modelo.pkl')"
      ],
      "execution_count": 178,
      "outputs": [
        {
          "output_type": "execute_result",
          "data": {
            "text/plain": [
              "['modelo.pkl']"
            ]
          },
          "metadata": {
            "tags": []
          },
          "execution_count": 178
        }
      ]
    },
    {
      "cell_type": "markdown",
      "metadata": {
        "id": "HgyjI597ZTpD"
      },
      "source": [
        "**Carregando o modelo**"
      ]
    },
    {
      "cell_type": "code",
      "metadata": {
        "id": "0sdr_ny6ZKri"
      },
      "source": [
        "from joblib import load\n",
        "model=load('modelo.pkl')"
      ],
      "execution_count": 180,
      "outputs": []
    },
    {
      "cell_type": "markdown",
      "metadata": {
        "id": "uXpd4IH9jFjt"
      },
      "source": [
        "---\n",
        "##Obrigado!\n",
        "\n",
        "Obrigado por ter disponibilizado um pouco do seu tempo e atenção aqui. Espero que, de alguma forma, tenha sido útil para seu crescimento. Se houver qualquer dúvida ou sugestão, não hesite em entrar em contato no LinkedIn e verificar meus outros projetos no GitHub."
      ]
    },
    {
      "cell_type": "markdown",
      "metadata": {
        "id": "L605NfWsjk0b"
      },
      "source": [
        "[![LinkedIn](https://img.shields.io/badge/LinkedIn-MuriloAugustoPó-blue.svg)](https://www.linkedin.com/in/muriloaugustopo/)\n",
        "[![GitHub](https://img.shields.io/badge/GitHub-murilopo-darkblue.svg)](https://github.com/amadords)\n"
      ]
    },
    {
      "cell_type": "code",
      "metadata": {
        "id": "itXhsFCBjfRB"
      },
      "source": [
        ""
      ],
      "execution_count": null,
      "outputs": []
    }
  ]
}